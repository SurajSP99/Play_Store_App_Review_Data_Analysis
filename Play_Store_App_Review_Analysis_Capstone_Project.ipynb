{
  "nbformat": 4,
  "nbformat_minor": 0,
  "metadata": {
    "kernelspec": {
      "display_name": "Python 3",
      "language": "python",
      "name": "python3"
    },
    "language_info": {
      "codemirror_mode": {
        "name": "ipython",
        "version": 3
      },
      "file_extension": ".py",
      "mimetype": "text/x-python",
      "name": "python",
      "nbconvert_exporter": "python",
      "pygments_lexer": "ipython3",
      "version": "3.6.6"
    },
    "colab": {
      "name": "Play Store App Review Analysis - Capstone Project.ipynb",
      "provenance": [],
      "include_colab_link": true
    }
  },
  "cells": [
    {
      "cell_type": "markdown",
      "metadata": {
        "id": "view-in-github",
        "colab_type": "text"
      },
      "source": [
        "<a href=\"https://colab.research.google.com/github/SurajSP99/Play_Store_App_Review_Data_Analysis/blob/main/Play_Store_App_Review_Analysis_Capstone_Project.ipynb\" target=\"_parent\"><img src=\"https://colab.research.google.com/assets/colab-badge.svg\" alt=\"Open In Colab\"/></a>"
      ]
    },
    {
      "cell_type": "markdown",
      "metadata": {
        "id": "Y06xIdG26kRF"
      },
      "source": [
        "## <b> The Play Store apps data has enormous potential to drive app-making businesses to success. Actionable insights can be drawn for developers to work on and capture the Android market. </b>\n",
        "\n",
        "## <b> Each app (row) has values for catergory, rating, size, and more. Another dataset contains customer reviews of the android apps.</b>\n",
        "\n",
        "## <b> Explore and analyze the data to discover key factors responsible for app engagement and success. </b>"
      ]
    },
    {
      "cell_type": "code",
      "metadata": {
        "id": "dByMsuzT8Tnw"
      },
      "source": [
        "# Importing the Libraries\n",
        "\n",
        "import numpy as np\n",
        "import pandas as pd\n",
        "import seaborn as sns\n",
        "import matplotlib.pyplot as plt"
      ],
      "execution_count": 1,
      "outputs": []
    },
    {
      "cell_type": "code",
      "source": [
        "# Mounting Google Drive\n",
        "\n",
        "from google.colab import drive\n",
        "drive.mount('/content/drive')"
      ],
      "metadata": {
        "id": "PevtRZX3zg2D",
        "outputId": "5bd5ce3b-f809-4dbf-ab9c-7cdb905ca4de",
        "colab": {
          "base_uri": "https://localhost:8080/"
        }
      },
      "execution_count": 2,
      "outputs": [
        {
          "output_type": "stream",
          "name": "stdout",
          "text": [
            "Mounted at /content/drive\n"
          ]
        }
      ]
    },
    {
      "cell_type": "code",
      "source": [
        "df = pd.read_csv('/content/drive/MyDrive/Copy of Play Store Data.csv')"
      ],
      "metadata": {
        "id": "XSwQ1wiYzoTc"
      },
      "execution_count": 3,
      "outputs": []
    },
    {
      "cell_type": "code",
      "source": [
        "# Looking into the data\n",
        "\n",
        "df.head()"
      ],
      "metadata": {
        "id": "j_bf_3mC0VOz",
        "outputId": "224d42c1-fe99-4cb2-98f9-6405e71545fd",
        "colab": {
          "base_uri": "https://localhost:8080/",
          "height": 354
        }
      },
      "execution_count": 4,
      "outputs": [
        {
          "output_type": "execute_result",
          "data": {
            "text/plain": [
              "                                                 App        Category  Rating  \\\n",
              "0     Photo Editor & Candy Camera & Grid & ScrapBook  ART_AND_DESIGN     4.1   \n",
              "1                                Coloring book moana  ART_AND_DESIGN     3.9   \n",
              "2  U Launcher Lite – FREE Live Cool Themes, Hide ...  ART_AND_DESIGN     4.7   \n",
              "3                              Sketch - Draw & Paint  ART_AND_DESIGN     4.5   \n",
              "4              Pixel Draw - Number Art Coloring Book  ART_AND_DESIGN     4.3   \n",
              "\n",
              "  Reviews  Size     Installs  Type Price Content Rating  \\\n",
              "0     159   19M      10,000+  Free     0       Everyone   \n",
              "1     967   14M     500,000+  Free     0       Everyone   \n",
              "2   87510  8.7M   5,000,000+  Free     0       Everyone   \n",
              "3  215644   25M  50,000,000+  Free     0           Teen   \n",
              "4     967  2.8M     100,000+  Free     0       Everyone   \n",
              "\n",
              "                      Genres      Last Updated         Current Ver  \\\n",
              "0               Art & Design   January 7, 2018               1.0.0   \n",
              "1  Art & Design;Pretend Play  January 15, 2018               2.0.0   \n",
              "2               Art & Design    August 1, 2018               1.2.4   \n",
              "3               Art & Design      June 8, 2018  Varies with device   \n",
              "4    Art & Design;Creativity     June 20, 2018                 1.1   \n",
              "\n",
              "    Android Ver  \n",
              "0  4.0.3 and up  \n",
              "1  4.0.3 and up  \n",
              "2  4.0.3 and up  \n",
              "3    4.2 and up  \n",
              "4    4.4 and up  "
            ],
            "text/html": [
              "\n",
              "  <div id=\"df-68854e00-971f-45c2-8fc5-dd44d56fc748\">\n",
              "    <div class=\"colab-df-container\">\n",
              "      <div>\n",
              "<style scoped>\n",
              "    .dataframe tbody tr th:only-of-type {\n",
              "        vertical-align: middle;\n",
              "    }\n",
              "\n",
              "    .dataframe tbody tr th {\n",
              "        vertical-align: top;\n",
              "    }\n",
              "\n",
              "    .dataframe thead th {\n",
              "        text-align: right;\n",
              "    }\n",
              "</style>\n",
              "<table border=\"1\" class=\"dataframe\">\n",
              "  <thead>\n",
              "    <tr style=\"text-align: right;\">\n",
              "      <th></th>\n",
              "      <th>App</th>\n",
              "      <th>Category</th>\n",
              "      <th>Rating</th>\n",
              "      <th>Reviews</th>\n",
              "      <th>Size</th>\n",
              "      <th>Installs</th>\n",
              "      <th>Type</th>\n",
              "      <th>Price</th>\n",
              "      <th>Content Rating</th>\n",
              "      <th>Genres</th>\n",
              "      <th>Last Updated</th>\n",
              "      <th>Current Ver</th>\n",
              "      <th>Android Ver</th>\n",
              "    </tr>\n",
              "  </thead>\n",
              "  <tbody>\n",
              "    <tr>\n",
              "      <th>0</th>\n",
              "      <td>Photo Editor &amp; Candy Camera &amp; Grid &amp; ScrapBook</td>\n",
              "      <td>ART_AND_DESIGN</td>\n",
              "      <td>4.1</td>\n",
              "      <td>159</td>\n",
              "      <td>19M</td>\n",
              "      <td>10,000+</td>\n",
              "      <td>Free</td>\n",
              "      <td>0</td>\n",
              "      <td>Everyone</td>\n",
              "      <td>Art &amp; Design</td>\n",
              "      <td>January 7, 2018</td>\n",
              "      <td>1.0.0</td>\n",
              "      <td>4.0.3 and up</td>\n",
              "    </tr>\n",
              "    <tr>\n",
              "      <th>1</th>\n",
              "      <td>Coloring book moana</td>\n",
              "      <td>ART_AND_DESIGN</td>\n",
              "      <td>3.9</td>\n",
              "      <td>967</td>\n",
              "      <td>14M</td>\n",
              "      <td>500,000+</td>\n",
              "      <td>Free</td>\n",
              "      <td>0</td>\n",
              "      <td>Everyone</td>\n",
              "      <td>Art &amp; Design;Pretend Play</td>\n",
              "      <td>January 15, 2018</td>\n",
              "      <td>2.0.0</td>\n",
              "      <td>4.0.3 and up</td>\n",
              "    </tr>\n",
              "    <tr>\n",
              "      <th>2</th>\n",
              "      <td>U Launcher Lite – FREE Live Cool Themes, Hide ...</td>\n",
              "      <td>ART_AND_DESIGN</td>\n",
              "      <td>4.7</td>\n",
              "      <td>87510</td>\n",
              "      <td>8.7M</td>\n",
              "      <td>5,000,000+</td>\n",
              "      <td>Free</td>\n",
              "      <td>0</td>\n",
              "      <td>Everyone</td>\n",
              "      <td>Art &amp; Design</td>\n",
              "      <td>August 1, 2018</td>\n",
              "      <td>1.2.4</td>\n",
              "      <td>4.0.3 and up</td>\n",
              "    </tr>\n",
              "    <tr>\n",
              "      <th>3</th>\n",
              "      <td>Sketch - Draw &amp; Paint</td>\n",
              "      <td>ART_AND_DESIGN</td>\n",
              "      <td>4.5</td>\n",
              "      <td>215644</td>\n",
              "      <td>25M</td>\n",
              "      <td>50,000,000+</td>\n",
              "      <td>Free</td>\n",
              "      <td>0</td>\n",
              "      <td>Teen</td>\n",
              "      <td>Art &amp; Design</td>\n",
              "      <td>June 8, 2018</td>\n",
              "      <td>Varies with device</td>\n",
              "      <td>4.2 and up</td>\n",
              "    </tr>\n",
              "    <tr>\n",
              "      <th>4</th>\n",
              "      <td>Pixel Draw - Number Art Coloring Book</td>\n",
              "      <td>ART_AND_DESIGN</td>\n",
              "      <td>4.3</td>\n",
              "      <td>967</td>\n",
              "      <td>2.8M</td>\n",
              "      <td>100,000+</td>\n",
              "      <td>Free</td>\n",
              "      <td>0</td>\n",
              "      <td>Everyone</td>\n",
              "      <td>Art &amp; Design;Creativity</td>\n",
              "      <td>June 20, 2018</td>\n",
              "      <td>1.1</td>\n",
              "      <td>4.4 and up</td>\n",
              "    </tr>\n",
              "  </tbody>\n",
              "</table>\n",
              "</div>\n",
              "      <button class=\"colab-df-convert\" onclick=\"convertToInteractive('df-68854e00-971f-45c2-8fc5-dd44d56fc748')\"\n",
              "              title=\"Convert this dataframe to an interactive table.\"\n",
              "              style=\"display:none;\">\n",
              "        \n",
              "  <svg xmlns=\"http://www.w3.org/2000/svg\" height=\"24px\"viewBox=\"0 0 24 24\"\n",
              "       width=\"24px\">\n",
              "    <path d=\"M0 0h24v24H0V0z\" fill=\"none\"/>\n",
              "    <path d=\"M18.56 5.44l.94 2.06.94-2.06 2.06-.94-2.06-.94-.94-2.06-.94 2.06-2.06.94zm-11 1L8.5 8.5l.94-2.06 2.06-.94-2.06-.94L8.5 2.5l-.94 2.06-2.06.94zm10 10l.94 2.06.94-2.06 2.06-.94-2.06-.94-.94-2.06-.94 2.06-2.06.94z\"/><path d=\"M17.41 7.96l-1.37-1.37c-.4-.4-.92-.59-1.43-.59-.52 0-1.04.2-1.43.59L10.3 9.45l-7.72 7.72c-.78.78-.78 2.05 0 2.83L4 21.41c.39.39.9.59 1.41.59.51 0 1.02-.2 1.41-.59l7.78-7.78 2.81-2.81c.8-.78.8-2.07 0-2.86zM5.41 20L4 18.59l7.72-7.72 1.47 1.35L5.41 20z\"/>\n",
              "  </svg>\n",
              "      </button>\n",
              "      \n",
              "  <style>\n",
              "    .colab-df-container {\n",
              "      display:flex;\n",
              "      flex-wrap:wrap;\n",
              "      gap: 12px;\n",
              "    }\n",
              "\n",
              "    .colab-df-convert {\n",
              "      background-color: #E8F0FE;\n",
              "      border: none;\n",
              "      border-radius: 50%;\n",
              "      cursor: pointer;\n",
              "      display: none;\n",
              "      fill: #1967D2;\n",
              "      height: 32px;\n",
              "      padding: 0 0 0 0;\n",
              "      width: 32px;\n",
              "    }\n",
              "\n",
              "    .colab-df-convert:hover {\n",
              "      background-color: #E2EBFA;\n",
              "      box-shadow: 0px 1px 2px rgba(60, 64, 67, 0.3), 0px 1px 3px 1px rgba(60, 64, 67, 0.15);\n",
              "      fill: #174EA6;\n",
              "    }\n",
              "\n",
              "    [theme=dark] .colab-df-convert {\n",
              "      background-color: #3B4455;\n",
              "      fill: #D2E3FC;\n",
              "    }\n",
              "\n",
              "    [theme=dark] .colab-df-convert:hover {\n",
              "      background-color: #434B5C;\n",
              "      box-shadow: 0px 1px 3px 1px rgba(0, 0, 0, 0.15);\n",
              "      filter: drop-shadow(0px 1px 2px rgba(0, 0, 0, 0.3));\n",
              "      fill: #FFFFFF;\n",
              "    }\n",
              "  </style>\n",
              "\n",
              "      <script>\n",
              "        const buttonEl =\n",
              "          document.querySelector('#df-68854e00-971f-45c2-8fc5-dd44d56fc748 button.colab-df-convert');\n",
              "        buttonEl.style.display =\n",
              "          google.colab.kernel.accessAllowed ? 'block' : 'none';\n",
              "\n",
              "        async function convertToInteractive(key) {\n",
              "          const element = document.querySelector('#df-68854e00-971f-45c2-8fc5-dd44d56fc748');\n",
              "          const dataTable =\n",
              "            await google.colab.kernel.invokeFunction('convertToInteractive',\n",
              "                                                     [key], {});\n",
              "          if (!dataTable) return;\n",
              "\n",
              "          const docLinkHtml = 'Like what you see? Visit the ' +\n",
              "            '<a target=\"_blank\" href=https://colab.research.google.com/notebooks/data_table.ipynb>data table notebook</a>'\n",
              "            + ' to learn more about interactive tables.';\n",
              "          element.innerHTML = '';\n",
              "          dataTable['output_type'] = 'display_data';\n",
              "          await google.colab.output.renderOutput(dataTable, element);\n",
              "          const docLink = document.createElement('div');\n",
              "          docLink.innerHTML = docLinkHtml;\n",
              "          element.appendChild(docLink);\n",
              "        }\n",
              "      </script>\n",
              "    </div>\n",
              "  </div>\n",
              "  "
            ]
          },
          "metadata": {},
          "execution_count": 4
        }
      ]
    },
    {
      "cell_type": "code",
      "source": [
        "df.sample(10)"
      ],
      "metadata": {
        "colab": {
          "base_uri": "https://localhost:8080/",
          "height": 563
        },
        "id": "5bssrxU43m9D",
        "outputId": "ad14b3cb-0035-4054-d6b5-ff3bf4222acd"
      },
      "execution_count": 5,
      "outputs": [
        {
          "output_type": "execute_result",
          "data": {
            "text/plain": [
              "                                                   App             Category  \\\n",
              "255                               Cisco Webex Meetings             BUSINESS   \n",
              "8384                                           DG Card        COMMUNICATION   \n",
              "636         Girls Live Talk - Free Text and Video Chat               DATING   \n",
              "8355                                      Aproveita DF            LIFESTYLE   \n",
              "1347                                       Pocket Yoga   HEALTH_AND_FITNESS   \n",
              "476                          Moco+ - Chat, Meet People               DATING   \n",
              "6106                            Combat BF: Black Ops 3                 GAME   \n",
              "5862                             Miami crime simulator                 GAME   \n",
              "9993                                            EW PDF  BOOKS_AND_REFERENCE   \n",
              "835   busuu: Learn Languages - Spanish, English & More            EDUCATION   \n",
              "\n",
              "      Rating Reviews                Size     Installs  Type  Price  \\\n",
              "255      4.4  108741                 28M  10,000,000+  Free      0   \n",
              "8384     NaN       0  Varies with device         100+  Free      0   \n",
              "636      5.0       6                5.0M         100+  Free      0   \n",
              "8355     NaN       0                3.3M           1+  Free      0   \n",
              "1347     4.4    2107  Varies with device     100,000+  Paid  $2.99   \n",
              "476      4.2    1545  Varies with device      10,000+  Paid  $3.99   \n",
              "6106     4.2    7699                 83M     500,000+  Free      0   \n",
              "5862     4.0  254518                100M  10,000,000+  Free      0   \n",
              "9993     NaN       0                8.7M           5+  Free      0   \n",
              "835      4.3  206532                 21M  10,000,000+  Free      0   \n",
              "\n",
              "     Content Rating             Genres       Last Updated         Current Ver  \\\n",
              "255        Everyone           Business      July 20, 2018              11.1.0   \n",
              "8384       Everyone      Communication    August 15, 2017  Varies with device   \n",
              "636      Mature 17+             Dating     August 1, 2018                 8.2   \n",
              "8355       Everyone          Lifestyle     August 2, 2018                 1.0   \n",
              "1347       Everyone   Health & Fitness  December 22, 2015  Varies with device   \n",
              "476      Mature 17+             Dating      June 19, 2018             2.6.139   \n",
              "6106     Mature 17+             Action      March 2, 2017               5.1.6   \n",
              "5862     Mature 17+             Action       July 9, 2018                 2.0   \n",
              "9993       Everyone  Books & Reference  February 14, 2018               1.0.2   \n",
              "835    Everyone 10+          Education     August 1, 2018          13.9.0.161   \n",
              "\n",
              "             Android Ver  \n",
              "255           4.3 and up  \n",
              "8384  Varies with device  \n",
              "636         4.0.3 and up  \n",
              "8355          4.0 and up  \n",
              "1347  Varies with device  \n",
              "476           4.1 and up  \n",
              "6106          2.3 and up  \n",
              "5862          4.0 and up  \n",
              "9993          4.4 and up  \n",
              "835           5.0 and up  "
            ],
            "text/html": [
              "\n",
              "  <div id=\"df-c1e9228e-520e-4a10-a046-698ecd7bc50f\">\n",
              "    <div class=\"colab-df-container\">\n",
              "      <div>\n",
              "<style scoped>\n",
              "    .dataframe tbody tr th:only-of-type {\n",
              "        vertical-align: middle;\n",
              "    }\n",
              "\n",
              "    .dataframe tbody tr th {\n",
              "        vertical-align: top;\n",
              "    }\n",
              "\n",
              "    .dataframe thead th {\n",
              "        text-align: right;\n",
              "    }\n",
              "</style>\n",
              "<table border=\"1\" class=\"dataframe\">\n",
              "  <thead>\n",
              "    <tr style=\"text-align: right;\">\n",
              "      <th></th>\n",
              "      <th>App</th>\n",
              "      <th>Category</th>\n",
              "      <th>Rating</th>\n",
              "      <th>Reviews</th>\n",
              "      <th>Size</th>\n",
              "      <th>Installs</th>\n",
              "      <th>Type</th>\n",
              "      <th>Price</th>\n",
              "      <th>Content Rating</th>\n",
              "      <th>Genres</th>\n",
              "      <th>Last Updated</th>\n",
              "      <th>Current Ver</th>\n",
              "      <th>Android Ver</th>\n",
              "    </tr>\n",
              "  </thead>\n",
              "  <tbody>\n",
              "    <tr>\n",
              "      <th>255</th>\n",
              "      <td>Cisco Webex Meetings</td>\n",
              "      <td>BUSINESS</td>\n",
              "      <td>4.4</td>\n",
              "      <td>108741</td>\n",
              "      <td>28M</td>\n",
              "      <td>10,000,000+</td>\n",
              "      <td>Free</td>\n",
              "      <td>0</td>\n",
              "      <td>Everyone</td>\n",
              "      <td>Business</td>\n",
              "      <td>July 20, 2018</td>\n",
              "      <td>11.1.0</td>\n",
              "      <td>4.3 and up</td>\n",
              "    </tr>\n",
              "    <tr>\n",
              "      <th>8384</th>\n",
              "      <td>DG Card</td>\n",
              "      <td>COMMUNICATION</td>\n",
              "      <td>NaN</td>\n",
              "      <td>0</td>\n",
              "      <td>Varies with device</td>\n",
              "      <td>100+</td>\n",
              "      <td>Free</td>\n",
              "      <td>0</td>\n",
              "      <td>Everyone</td>\n",
              "      <td>Communication</td>\n",
              "      <td>August 15, 2017</td>\n",
              "      <td>Varies with device</td>\n",
              "      <td>Varies with device</td>\n",
              "    </tr>\n",
              "    <tr>\n",
              "      <th>636</th>\n",
              "      <td>Girls Live Talk - Free Text and Video Chat</td>\n",
              "      <td>DATING</td>\n",
              "      <td>5.0</td>\n",
              "      <td>6</td>\n",
              "      <td>5.0M</td>\n",
              "      <td>100+</td>\n",
              "      <td>Free</td>\n",
              "      <td>0</td>\n",
              "      <td>Mature 17+</td>\n",
              "      <td>Dating</td>\n",
              "      <td>August 1, 2018</td>\n",
              "      <td>8.2</td>\n",
              "      <td>4.0.3 and up</td>\n",
              "    </tr>\n",
              "    <tr>\n",
              "      <th>8355</th>\n",
              "      <td>Aproveita DF</td>\n",
              "      <td>LIFESTYLE</td>\n",
              "      <td>NaN</td>\n",
              "      <td>0</td>\n",
              "      <td>3.3M</td>\n",
              "      <td>1+</td>\n",
              "      <td>Free</td>\n",
              "      <td>0</td>\n",
              "      <td>Everyone</td>\n",
              "      <td>Lifestyle</td>\n",
              "      <td>August 2, 2018</td>\n",
              "      <td>1.0</td>\n",
              "      <td>4.0 and up</td>\n",
              "    </tr>\n",
              "    <tr>\n",
              "      <th>1347</th>\n",
              "      <td>Pocket Yoga</td>\n",
              "      <td>HEALTH_AND_FITNESS</td>\n",
              "      <td>4.4</td>\n",
              "      <td>2107</td>\n",
              "      <td>Varies with device</td>\n",
              "      <td>100,000+</td>\n",
              "      <td>Paid</td>\n",
              "      <td>$2.99</td>\n",
              "      <td>Everyone</td>\n",
              "      <td>Health &amp; Fitness</td>\n",
              "      <td>December 22, 2015</td>\n",
              "      <td>Varies with device</td>\n",
              "      <td>Varies with device</td>\n",
              "    </tr>\n",
              "    <tr>\n",
              "      <th>476</th>\n",
              "      <td>Moco+ - Chat, Meet People</td>\n",
              "      <td>DATING</td>\n",
              "      <td>4.2</td>\n",
              "      <td>1545</td>\n",
              "      <td>Varies with device</td>\n",
              "      <td>10,000+</td>\n",
              "      <td>Paid</td>\n",
              "      <td>$3.99</td>\n",
              "      <td>Mature 17+</td>\n",
              "      <td>Dating</td>\n",
              "      <td>June 19, 2018</td>\n",
              "      <td>2.6.139</td>\n",
              "      <td>4.1 and up</td>\n",
              "    </tr>\n",
              "    <tr>\n",
              "      <th>6106</th>\n",
              "      <td>Combat BF: Black Ops 3</td>\n",
              "      <td>GAME</td>\n",
              "      <td>4.2</td>\n",
              "      <td>7699</td>\n",
              "      <td>83M</td>\n",
              "      <td>500,000+</td>\n",
              "      <td>Free</td>\n",
              "      <td>0</td>\n",
              "      <td>Mature 17+</td>\n",
              "      <td>Action</td>\n",
              "      <td>March 2, 2017</td>\n",
              "      <td>5.1.6</td>\n",
              "      <td>2.3 and up</td>\n",
              "    </tr>\n",
              "    <tr>\n",
              "      <th>5862</th>\n",
              "      <td>Miami crime simulator</td>\n",
              "      <td>GAME</td>\n",
              "      <td>4.0</td>\n",
              "      <td>254518</td>\n",
              "      <td>100M</td>\n",
              "      <td>10,000,000+</td>\n",
              "      <td>Free</td>\n",
              "      <td>0</td>\n",
              "      <td>Mature 17+</td>\n",
              "      <td>Action</td>\n",
              "      <td>July 9, 2018</td>\n",
              "      <td>2.0</td>\n",
              "      <td>4.0 and up</td>\n",
              "    </tr>\n",
              "    <tr>\n",
              "      <th>9993</th>\n",
              "      <td>EW PDF</td>\n",
              "      <td>BOOKS_AND_REFERENCE</td>\n",
              "      <td>NaN</td>\n",
              "      <td>0</td>\n",
              "      <td>8.7M</td>\n",
              "      <td>5+</td>\n",
              "      <td>Free</td>\n",
              "      <td>0</td>\n",
              "      <td>Everyone</td>\n",
              "      <td>Books &amp; Reference</td>\n",
              "      <td>February 14, 2018</td>\n",
              "      <td>1.0.2</td>\n",
              "      <td>4.4 and up</td>\n",
              "    </tr>\n",
              "    <tr>\n",
              "      <th>835</th>\n",
              "      <td>busuu: Learn Languages - Spanish, English &amp; More</td>\n",
              "      <td>EDUCATION</td>\n",
              "      <td>4.3</td>\n",
              "      <td>206532</td>\n",
              "      <td>21M</td>\n",
              "      <td>10,000,000+</td>\n",
              "      <td>Free</td>\n",
              "      <td>0</td>\n",
              "      <td>Everyone 10+</td>\n",
              "      <td>Education</td>\n",
              "      <td>August 1, 2018</td>\n",
              "      <td>13.9.0.161</td>\n",
              "      <td>5.0 and up</td>\n",
              "    </tr>\n",
              "  </tbody>\n",
              "</table>\n",
              "</div>\n",
              "      <button class=\"colab-df-convert\" onclick=\"convertToInteractive('df-c1e9228e-520e-4a10-a046-698ecd7bc50f')\"\n",
              "              title=\"Convert this dataframe to an interactive table.\"\n",
              "              style=\"display:none;\">\n",
              "        \n",
              "  <svg xmlns=\"http://www.w3.org/2000/svg\" height=\"24px\"viewBox=\"0 0 24 24\"\n",
              "       width=\"24px\">\n",
              "    <path d=\"M0 0h24v24H0V0z\" fill=\"none\"/>\n",
              "    <path d=\"M18.56 5.44l.94 2.06.94-2.06 2.06-.94-2.06-.94-.94-2.06-.94 2.06-2.06.94zm-11 1L8.5 8.5l.94-2.06 2.06-.94-2.06-.94L8.5 2.5l-.94 2.06-2.06.94zm10 10l.94 2.06.94-2.06 2.06-.94-2.06-.94-.94-2.06-.94 2.06-2.06.94z\"/><path d=\"M17.41 7.96l-1.37-1.37c-.4-.4-.92-.59-1.43-.59-.52 0-1.04.2-1.43.59L10.3 9.45l-7.72 7.72c-.78.78-.78 2.05 0 2.83L4 21.41c.39.39.9.59 1.41.59.51 0 1.02-.2 1.41-.59l7.78-7.78 2.81-2.81c.8-.78.8-2.07 0-2.86zM5.41 20L4 18.59l7.72-7.72 1.47 1.35L5.41 20z\"/>\n",
              "  </svg>\n",
              "      </button>\n",
              "      \n",
              "  <style>\n",
              "    .colab-df-container {\n",
              "      display:flex;\n",
              "      flex-wrap:wrap;\n",
              "      gap: 12px;\n",
              "    }\n",
              "\n",
              "    .colab-df-convert {\n",
              "      background-color: #E8F0FE;\n",
              "      border: none;\n",
              "      border-radius: 50%;\n",
              "      cursor: pointer;\n",
              "      display: none;\n",
              "      fill: #1967D2;\n",
              "      height: 32px;\n",
              "      padding: 0 0 0 0;\n",
              "      width: 32px;\n",
              "    }\n",
              "\n",
              "    .colab-df-convert:hover {\n",
              "      background-color: #E2EBFA;\n",
              "      box-shadow: 0px 1px 2px rgba(60, 64, 67, 0.3), 0px 1px 3px 1px rgba(60, 64, 67, 0.15);\n",
              "      fill: #174EA6;\n",
              "    }\n",
              "\n",
              "    [theme=dark] .colab-df-convert {\n",
              "      background-color: #3B4455;\n",
              "      fill: #D2E3FC;\n",
              "    }\n",
              "\n",
              "    [theme=dark] .colab-df-convert:hover {\n",
              "      background-color: #434B5C;\n",
              "      box-shadow: 0px 1px 3px 1px rgba(0, 0, 0, 0.15);\n",
              "      filter: drop-shadow(0px 1px 2px rgba(0, 0, 0, 0.3));\n",
              "      fill: #FFFFFF;\n",
              "    }\n",
              "  </style>\n",
              "\n",
              "      <script>\n",
              "        const buttonEl =\n",
              "          document.querySelector('#df-c1e9228e-520e-4a10-a046-698ecd7bc50f button.colab-df-convert');\n",
              "        buttonEl.style.display =\n",
              "          google.colab.kernel.accessAllowed ? 'block' : 'none';\n",
              "\n",
              "        async function convertToInteractive(key) {\n",
              "          const element = document.querySelector('#df-c1e9228e-520e-4a10-a046-698ecd7bc50f');\n",
              "          const dataTable =\n",
              "            await google.colab.kernel.invokeFunction('convertToInteractive',\n",
              "                                                     [key], {});\n",
              "          if (!dataTable) return;\n",
              "\n",
              "          const docLinkHtml = 'Like what you see? Visit the ' +\n",
              "            '<a target=\"_blank\" href=https://colab.research.google.com/notebooks/data_table.ipynb>data table notebook</a>'\n",
              "            + ' to learn more about interactive tables.';\n",
              "          element.innerHTML = '';\n",
              "          dataTable['output_type'] = 'display_data';\n",
              "          await google.colab.output.renderOutput(dataTable, element);\n",
              "          const docLink = document.createElement('div');\n",
              "          docLink.innerHTML = docLinkHtml;\n",
              "          element.appendChild(docLink);\n",
              "        }\n",
              "      </script>\n",
              "    </div>\n",
              "  </div>\n",
              "  "
            ]
          },
          "metadata": {},
          "execution_count": 5
        }
      ]
    },
    {
      "cell_type": "markdown",
      "source": [
        "#***Lets discover all the columns***\n",
        "\n",
        "###**App - Contains names of all the apps**\n",
        "\n",
        "###**Category - Category under which app falls in**\n",
        "\n",
        "###**Rating - User ratings for the app**\n",
        "\n",
        "###**Reviews - Number of reviews given by the users**\n",
        "\n",
        "###**Size - Its nothing but the App size & it has suffix 'M' which indicates MegaBytes (MB)**\n",
        "\n",
        "###**Installs - Number of times the App is downloaded**\n",
        "\n",
        "###**Type - Type of App, whether its Paid or Free**\n",
        "\n",
        "###**Price - Price of the paid app. It has prefix '$', indicating price is in Dollars.**\n",
        "\n",
        "###**Content Rating - App suitable for which type of users, suggested by App Developer**\n",
        "\n",
        "###**Genres - Genre of the App**\n",
        "\n",
        "###**Last Updated - Date of latest version released**\n",
        "\n",
        "###**Current Version - Current version available of the App**\n",
        "\n",
        "###**Android Version - Compatibility of App with Android versions**"
      ],
      "metadata": {
        "id": "mKCVKegrHiTH"
      }
    },
    {
      "cell_type": "markdown",
      "source": [
        "## **Now lets see all the unique categories within Columns**"
      ],
      "metadata": {
        "id": "GN4KBO7hFxnP"
      }
    },
    {
      "cell_type": "code",
      "source": [
        "# Unique Categories\n",
        "\n",
        "df.Category.unique()"
      ],
      "metadata": {
        "colab": {
          "base_uri": "https://localhost:8080/"
        },
        "id": "iq1ih0cPF-QV",
        "outputId": "a17db981-ba9c-43eb-d51c-5dabfc5eed15"
      },
      "execution_count": 6,
      "outputs": [
        {
          "output_type": "execute_result",
          "data": {
            "text/plain": [
              "array(['ART_AND_DESIGN', 'AUTO_AND_VEHICLES', 'BEAUTY',\n",
              "       'BOOKS_AND_REFERENCE', 'BUSINESS', 'COMICS', 'COMMUNICATION',\n",
              "       'DATING', 'EDUCATION', 'ENTERTAINMENT', 'EVENTS', 'FINANCE',\n",
              "       'FOOD_AND_DRINK', 'HEALTH_AND_FITNESS', 'HOUSE_AND_HOME',\n",
              "       'LIBRARIES_AND_DEMO', 'LIFESTYLE', 'GAME', 'FAMILY', 'MEDICAL',\n",
              "       'SOCIAL', 'SHOPPING', 'PHOTOGRAPHY', 'SPORTS', 'TRAVEL_AND_LOCAL',\n",
              "       'TOOLS', 'PERSONALIZATION', 'PRODUCTIVITY', 'PARENTING', 'WEATHER',\n",
              "       'VIDEO_PLAYERS', 'NEWS_AND_MAGAZINES', 'MAPS_AND_NAVIGATION',\n",
              "       '1.9'], dtype=object)"
            ]
          },
          "metadata": {},
          "execution_count": 6
        }
      ]
    },
    {
      "cell_type": "code",
      "source": [
        "# Unique Types\n",
        "\n",
        "df.Type.unique()"
      ],
      "metadata": {
        "colab": {
          "base_uri": "https://localhost:8080/"
        },
        "id": "k8n5_LQzGJtq",
        "outputId": "6c4e18c4-581b-4ef6-b40b-643ce7cfcc21"
      },
      "execution_count": 7,
      "outputs": [
        {
          "output_type": "execute_result",
          "data": {
            "text/plain": [
              "array(['Free', 'Paid', nan, '0'], dtype=object)"
            ]
          },
          "metadata": {},
          "execution_count": 7
        }
      ]
    },
    {
      "cell_type": "code",
      "source": [
        "# Unique Content Rating by the App Developer\n",
        "\n",
        "df['Content Rating'].unique()"
      ],
      "metadata": {
        "colab": {
          "base_uri": "https://localhost:8080/"
        },
        "id": "2aOqnqwbGxPr",
        "outputId": "f3907dee-d23c-466f-e973-2b1fd04812b5"
      },
      "execution_count": 8,
      "outputs": [
        {
          "output_type": "execute_result",
          "data": {
            "text/plain": [
              "array(['Everyone', 'Teen', 'Everyone 10+', 'Mature 17+',\n",
              "       'Adults only 18+', 'Unrated', nan], dtype=object)"
            ]
          },
          "metadata": {},
          "execution_count": 8
        }
      ]
    },
    {
      "cell_type": "code",
      "source": [
        "# Unique Genres\n",
        "\n",
        "df.Genres.unique()"
      ],
      "metadata": {
        "colab": {
          "base_uri": "https://localhost:8080/"
        },
        "id": "RKaC0MziHD8U",
        "outputId": "7006fd13-001b-42b9-a0d0-0d2fe0e6b3cd"
      },
      "execution_count": 9,
      "outputs": [
        {
          "output_type": "execute_result",
          "data": {
            "text/plain": [
              "array(['Art & Design', 'Art & Design;Pretend Play',\n",
              "       'Art & Design;Creativity', 'Art & Design;Action & Adventure',\n",
              "       'Auto & Vehicles', 'Beauty', 'Books & Reference', 'Business',\n",
              "       'Comics', 'Comics;Creativity', 'Communication', 'Dating',\n",
              "       'Education;Education', 'Education', 'Education;Creativity',\n",
              "       'Education;Music & Video', 'Education;Action & Adventure',\n",
              "       'Education;Pretend Play', 'Education;Brain Games', 'Entertainment',\n",
              "       'Entertainment;Music & Video', 'Entertainment;Brain Games',\n",
              "       'Entertainment;Creativity', 'Events', 'Finance', 'Food & Drink',\n",
              "       'Health & Fitness', 'House & Home', 'Libraries & Demo',\n",
              "       'Lifestyle', 'Lifestyle;Pretend Play',\n",
              "       'Adventure;Action & Adventure', 'Arcade', 'Casual', 'Card',\n",
              "       'Casual;Pretend Play', 'Action', 'Strategy', 'Puzzle', 'Sports',\n",
              "       'Music', 'Word', 'Racing', 'Casual;Creativity',\n",
              "       'Casual;Action & Adventure', 'Simulation', 'Adventure', 'Board',\n",
              "       'Trivia', 'Role Playing', 'Simulation;Education',\n",
              "       'Action;Action & Adventure', 'Casual;Brain Games',\n",
              "       'Simulation;Action & Adventure', 'Educational;Creativity',\n",
              "       'Puzzle;Brain Games', 'Educational;Education', 'Card;Brain Games',\n",
              "       'Educational;Brain Games', 'Educational;Pretend Play',\n",
              "       'Entertainment;Education', 'Casual;Education',\n",
              "       'Music;Music & Video', 'Racing;Action & Adventure',\n",
              "       'Arcade;Pretend Play', 'Role Playing;Action & Adventure',\n",
              "       'Simulation;Pretend Play', 'Puzzle;Creativity',\n",
              "       'Sports;Action & Adventure', 'Educational;Action & Adventure',\n",
              "       'Arcade;Action & Adventure', 'Entertainment;Action & Adventure',\n",
              "       'Puzzle;Action & Adventure', 'Strategy;Action & Adventure',\n",
              "       'Music & Audio;Music & Video', 'Health & Fitness;Education',\n",
              "       'Adventure;Education', 'Board;Brain Games',\n",
              "       'Board;Action & Adventure', 'Board;Pretend Play',\n",
              "       'Casual;Music & Video', 'Role Playing;Pretend Play',\n",
              "       'Entertainment;Pretend Play', 'Video Players & Editors;Creativity',\n",
              "       'Card;Action & Adventure', 'Medical', 'Social', 'Shopping',\n",
              "       'Photography', 'Travel & Local',\n",
              "       'Travel & Local;Action & Adventure', 'Tools', 'Tools;Education',\n",
              "       'Personalization', 'Productivity', 'Parenting',\n",
              "       'Parenting;Music & Video', 'Parenting;Education',\n",
              "       'Parenting;Brain Games', 'Weather', 'Video Players & Editors',\n",
              "       'Video Players & Editors;Music & Video', 'News & Magazines',\n",
              "       'Maps & Navigation', 'Health & Fitness;Action & Adventure',\n",
              "       'Educational', 'Casino', 'Adventure;Brain Games',\n",
              "       'Trivia;Education', 'Lifestyle;Education',\n",
              "       'Books & Reference;Creativity', 'Books & Reference;Education',\n",
              "       'Puzzle;Education', 'Role Playing;Education',\n",
              "       'Role Playing;Brain Games', 'Strategy;Education',\n",
              "       'Racing;Pretend Play', 'Communication;Creativity',\n",
              "       'February 11, 2018', 'Strategy;Creativity'], dtype=object)"
            ]
          },
          "metadata": {},
          "execution_count": 9
        }
      ]
    },
    {
      "cell_type": "code",
      "source": [
        "# Knowing the Data Types\n",
        "\n",
        "df.info()"
      ],
      "metadata": {
        "id": "1sHVM9_23oZd",
        "colab": {
          "base_uri": "https://localhost:8080/"
        },
        "outputId": "6c011499-4eda-481f-c0d4-61f6050df69f"
      },
      "execution_count": 10,
      "outputs": [
        {
          "output_type": "stream",
          "name": "stdout",
          "text": [
            "<class 'pandas.core.frame.DataFrame'>\n",
            "RangeIndex: 10841 entries, 0 to 10840\n",
            "Data columns (total 13 columns):\n",
            " #   Column          Non-Null Count  Dtype  \n",
            "---  ------          --------------  -----  \n",
            " 0   App             10841 non-null  object \n",
            " 1   Category        10841 non-null  object \n",
            " 2   Rating          9367 non-null   float64\n",
            " 3   Reviews         10841 non-null  object \n",
            " 4   Size            10841 non-null  object \n",
            " 5   Installs        10841 non-null  object \n",
            " 6   Type            10840 non-null  object \n",
            " 7   Price           10841 non-null  object \n",
            " 8   Content Rating  10840 non-null  object \n",
            " 9   Genres          10841 non-null  object \n",
            " 10  Last Updated    10841 non-null  object \n",
            " 11  Current Ver     10833 non-null  object \n",
            " 12  Android Ver     10838 non-null  object \n",
            "dtypes: float64(1), object(12)\n",
            "memory usage: 1.1+ MB\n"
          ]
        }
      ]
    },
    {
      "cell_type": "markdown",
      "source": [
        "## **Looks like only 'Rating' coloumn has most of the null values**"
      ],
      "metadata": {
        "id": "dvSe_rFf8l2q"
      }
    },
    {
      "cell_type": "code",
      "source": [
        "df.describe()"
      ],
      "metadata": {
        "colab": {
          "base_uri": "https://localhost:8080/",
          "height": 300
        },
        "id": "g8l88iRY8UNk",
        "outputId": "b4cd9b5d-55ab-4799-ff9f-88bc272b4431"
      },
      "execution_count": 11,
      "outputs": [
        {
          "output_type": "execute_result",
          "data": {
            "text/plain": [
              "            Rating\n",
              "count  9367.000000\n",
              "mean      4.193338\n",
              "std       0.537431\n",
              "min       1.000000\n",
              "25%       4.000000\n",
              "50%       4.300000\n",
              "75%       4.500000\n",
              "max      19.000000"
            ],
            "text/html": [
              "\n",
              "  <div id=\"df-58fb95fb-6747-49a4-bf71-6b91626a85d9\">\n",
              "    <div class=\"colab-df-container\">\n",
              "      <div>\n",
              "<style scoped>\n",
              "    .dataframe tbody tr th:only-of-type {\n",
              "        vertical-align: middle;\n",
              "    }\n",
              "\n",
              "    .dataframe tbody tr th {\n",
              "        vertical-align: top;\n",
              "    }\n",
              "\n",
              "    .dataframe thead th {\n",
              "        text-align: right;\n",
              "    }\n",
              "</style>\n",
              "<table border=\"1\" class=\"dataframe\">\n",
              "  <thead>\n",
              "    <tr style=\"text-align: right;\">\n",
              "      <th></th>\n",
              "      <th>Rating</th>\n",
              "    </tr>\n",
              "  </thead>\n",
              "  <tbody>\n",
              "    <tr>\n",
              "      <th>count</th>\n",
              "      <td>9367.000000</td>\n",
              "    </tr>\n",
              "    <tr>\n",
              "      <th>mean</th>\n",
              "      <td>4.193338</td>\n",
              "    </tr>\n",
              "    <tr>\n",
              "      <th>std</th>\n",
              "      <td>0.537431</td>\n",
              "    </tr>\n",
              "    <tr>\n",
              "      <th>min</th>\n",
              "      <td>1.000000</td>\n",
              "    </tr>\n",
              "    <tr>\n",
              "      <th>25%</th>\n",
              "      <td>4.000000</td>\n",
              "    </tr>\n",
              "    <tr>\n",
              "      <th>50%</th>\n",
              "      <td>4.300000</td>\n",
              "    </tr>\n",
              "    <tr>\n",
              "      <th>75%</th>\n",
              "      <td>4.500000</td>\n",
              "    </tr>\n",
              "    <tr>\n",
              "      <th>max</th>\n",
              "      <td>19.000000</td>\n",
              "    </tr>\n",
              "  </tbody>\n",
              "</table>\n",
              "</div>\n",
              "      <button class=\"colab-df-convert\" onclick=\"convertToInteractive('df-58fb95fb-6747-49a4-bf71-6b91626a85d9')\"\n",
              "              title=\"Convert this dataframe to an interactive table.\"\n",
              "              style=\"display:none;\">\n",
              "        \n",
              "  <svg xmlns=\"http://www.w3.org/2000/svg\" height=\"24px\"viewBox=\"0 0 24 24\"\n",
              "       width=\"24px\">\n",
              "    <path d=\"M0 0h24v24H0V0z\" fill=\"none\"/>\n",
              "    <path d=\"M18.56 5.44l.94 2.06.94-2.06 2.06-.94-2.06-.94-.94-2.06-.94 2.06-2.06.94zm-11 1L8.5 8.5l.94-2.06 2.06-.94-2.06-.94L8.5 2.5l-.94 2.06-2.06.94zm10 10l.94 2.06.94-2.06 2.06-.94-2.06-.94-.94-2.06-.94 2.06-2.06.94z\"/><path d=\"M17.41 7.96l-1.37-1.37c-.4-.4-.92-.59-1.43-.59-.52 0-1.04.2-1.43.59L10.3 9.45l-7.72 7.72c-.78.78-.78 2.05 0 2.83L4 21.41c.39.39.9.59 1.41.59.51 0 1.02-.2 1.41-.59l7.78-7.78 2.81-2.81c.8-.78.8-2.07 0-2.86zM5.41 20L4 18.59l7.72-7.72 1.47 1.35L5.41 20z\"/>\n",
              "  </svg>\n",
              "      </button>\n",
              "      \n",
              "  <style>\n",
              "    .colab-df-container {\n",
              "      display:flex;\n",
              "      flex-wrap:wrap;\n",
              "      gap: 12px;\n",
              "    }\n",
              "\n",
              "    .colab-df-convert {\n",
              "      background-color: #E8F0FE;\n",
              "      border: none;\n",
              "      border-radius: 50%;\n",
              "      cursor: pointer;\n",
              "      display: none;\n",
              "      fill: #1967D2;\n",
              "      height: 32px;\n",
              "      padding: 0 0 0 0;\n",
              "      width: 32px;\n",
              "    }\n",
              "\n",
              "    .colab-df-convert:hover {\n",
              "      background-color: #E2EBFA;\n",
              "      box-shadow: 0px 1px 2px rgba(60, 64, 67, 0.3), 0px 1px 3px 1px rgba(60, 64, 67, 0.15);\n",
              "      fill: #174EA6;\n",
              "    }\n",
              "\n",
              "    [theme=dark] .colab-df-convert {\n",
              "      background-color: #3B4455;\n",
              "      fill: #D2E3FC;\n",
              "    }\n",
              "\n",
              "    [theme=dark] .colab-df-convert:hover {\n",
              "      background-color: #434B5C;\n",
              "      box-shadow: 0px 1px 3px 1px rgba(0, 0, 0, 0.15);\n",
              "      filter: drop-shadow(0px 1px 2px rgba(0, 0, 0, 0.3));\n",
              "      fill: #FFFFFF;\n",
              "    }\n",
              "  </style>\n",
              "\n",
              "      <script>\n",
              "        const buttonEl =\n",
              "          document.querySelector('#df-58fb95fb-6747-49a4-bf71-6b91626a85d9 button.colab-df-convert');\n",
              "        buttonEl.style.display =\n",
              "          google.colab.kernel.accessAllowed ? 'block' : 'none';\n",
              "\n",
              "        async function convertToInteractive(key) {\n",
              "          const element = document.querySelector('#df-58fb95fb-6747-49a4-bf71-6b91626a85d9');\n",
              "          const dataTable =\n",
              "            await google.colab.kernel.invokeFunction('convertToInteractive',\n",
              "                                                     [key], {});\n",
              "          if (!dataTable) return;\n",
              "\n",
              "          const docLinkHtml = 'Like what you see? Visit the ' +\n",
              "            '<a target=\"_blank\" href=https://colab.research.google.com/notebooks/data_table.ipynb>data table notebook</a>'\n",
              "            + ' to learn more about interactive tables.';\n",
              "          element.innerHTML = '';\n",
              "          dataTable['output_type'] = 'display_data';\n",
              "          await google.colab.output.renderOutput(dataTable, element);\n",
              "          const docLink = document.createElement('div');\n",
              "          docLink.innerHTML = docLinkHtml;\n",
              "          element.appendChild(docLink);\n",
              "        }\n",
              "      </script>\n",
              "    </div>\n",
              "  </div>\n",
              "  "
            ]
          },
          "metadata": {},
          "execution_count": 11
        }
      ]
    },
    {
      "cell_type": "markdown",
      "source": [
        "# **Replacing all the null values with median value**"
      ],
      "metadata": {
        "id": "sIKdVrKC9xMa"
      }
    },
    {
      "cell_type": "code",
      "source": [
        "# Median Value\n",
        "\n",
        "df.Rating.median()"
      ],
      "metadata": {
        "colab": {
          "base_uri": "https://localhost:8080/"
        },
        "id": "jNlvjg50DpEL",
        "outputId": "9392f87c-34ec-4353-c175-cdb714d243ff"
      },
      "execution_count": 12,
      "outputs": [
        {
          "output_type": "execute_result",
          "data": {
            "text/plain": [
              "4.3"
            ]
          },
          "metadata": {},
          "execution_count": 12
        }
      ]
    },
    {
      "cell_type": "code",
      "source": [
        "df['Rating'] = df['Rating'].fillna(df.Rating.median())"
      ],
      "metadata": {
        "id": "xJqRJLCz9StO"
      },
      "execution_count": 13,
      "outputs": []
    },
    {
      "cell_type": "code",
      "source": [
        "df.info()"
      ],
      "metadata": {
        "colab": {
          "base_uri": "https://localhost:8080/"
        },
        "id": "BjjcF1ThBC2S",
        "outputId": "67fdde7b-ca30-44d7-f83a-9adf21d8e1a8"
      },
      "execution_count": 14,
      "outputs": [
        {
          "output_type": "stream",
          "name": "stdout",
          "text": [
            "<class 'pandas.core.frame.DataFrame'>\n",
            "RangeIndex: 10841 entries, 0 to 10840\n",
            "Data columns (total 13 columns):\n",
            " #   Column          Non-Null Count  Dtype  \n",
            "---  ------          --------------  -----  \n",
            " 0   App             10841 non-null  object \n",
            " 1   Category        10841 non-null  object \n",
            " 2   Rating          10841 non-null  float64\n",
            " 3   Reviews         10841 non-null  object \n",
            " 4   Size            10841 non-null  object \n",
            " 5   Installs        10841 non-null  object \n",
            " 6   Type            10840 non-null  object \n",
            " 7   Price           10841 non-null  object \n",
            " 8   Content Rating  10840 non-null  object \n",
            " 9   Genres          10841 non-null  object \n",
            " 10  Last Updated    10841 non-null  object \n",
            " 11  Current Ver     10833 non-null  object \n",
            " 12  Android Ver     10838 non-null  object \n",
            "dtypes: float64(1), object(12)\n",
            "memory usage: 1.1+ MB\n"
          ]
        }
      ]
    },
    {
      "cell_type": "code",
      "source": [
        "# We were getting error in converting the 'Last Updated' column into DateTime type, because there was one value present in that column in wrong format.\n",
        "\n",
        "# So we first located the index of that value & then dropped that row\n",
        "\n",
        "# In doing so we also got rid of the row which has Rating as 19.0 which is not possible. So now we do not need to do separae operation for removing it."
      ],
      "metadata": {
        "id": "o9EolDpnFCCs"
      },
      "execution_count": 15,
      "outputs": []
    },
    {
      "cell_type": "code",
      "source": [
        "# Locating the index of value in wrong format\n",
        "\n",
        "df.loc[(df['Last Updated'] == '1.0.19')]"
      ],
      "metadata": {
        "colab": {
          "base_uri": "https://localhost:8080/",
          "height": 159
        },
        "id": "iwx-IDVqdkot",
        "outputId": "5020acab-54e7-431b-8eee-f250b36d46f9"
      },
      "execution_count": 16,
      "outputs": [
        {
          "output_type": "execute_result",
          "data": {
            "text/plain": [
              "                                           App Category  Rating Reviews  \\\n",
              "10472  Life Made WI-Fi Touchscreen Photo Frame      1.9    19.0    3.0M   \n",
              "\n",
              "         Size Installs Type     Price Content Rating             Genres  \\\n",
              "10472  1,000+     Free    0  Everyone            NaN  February 11, 2018   \n",
              "\n",
              "      Last Updated Current Ver Android Ver  \n",
              "10472       1.0.19  4.0 and up         NaN  "
            ],
            "text/html": [
              "\n",
              "  <div id=\"df-fc0a0ffd-6cf7-46d3-b3cd-b2cc01e4e65c\">\n",
              "    <div class=\"colab-df-container\">\n",
              "      <div>\n",
              "<style scoped>\n",
              "    .dataframe tbody tr th:only-of-type {\n",
              "        vertical-align: middle;\n",
              "    }\n",
              "\n",
              "    .dataframe tbody tr th {\n",
              "        vertical-align: top;\n",
              "    }\n",
              "\n",
              "    .dataframe thead th {\n",
              "        text-align: right;\n",
              "    }\n",
              "</style>\n",
              "<table border=\"1\" class=\"dataframe\">\n",
              "  <thead>\n",
              "    <tr style=\"text-align: right;\">\n",
              "      <th></th>\n",
              "      <th>App</th>\n",
              "      <th>Category</th>\n",
              "      <th>Rating</th>\n",
              "      <th>Reviews</th>\n",
              "      <th>Size</th>\n",
              "      <th>Installs</th>\n",
              "      <th>Type</th>\n",
              "      <th>Price</th>\n",
              "      <th>Content Rating</th>\n",
              "      <th>Genres</th>\n",
              "      <th>Last Updated</th>\n",
              "      <th>Current Ver</th>\n",
              "      <th>Android Ver</th>\n",
              "    </tr>\n",
              "  </thead>\n",
              "  <tbody>\n",
              "    <tr>\n",
              "      <th>10472</th>\n",
              "      <td>Life Made WI-Fi Touchscreen Photo Frame</td>\n",
              "      <td>1.9</td>\n",
              "      <td>19.0</td>\n",
              "      <td>3.0M</td>\n",
              "      <td>1,000+</td>\n",
              "      <td>Free</td>\n",
              "      <td>0</td>\n",
              "      <td>Everyone</td>\n",
              "      <td>NaN</td>\n",
              "      <td>February 11, 2018</td>\n",
              "      <td>1.0.19</td>\n",
              "      <td>4.0 and up</td>\n",
              "      <td>NaN</td>\n",
              "    </tr>\n",
              "  </tbody>\n",
              "</table>\n",
              "</div>\n",
              "      <button class=\"colab-df-convert\" onclick=\"convertToInteractive('df-fc0a0ffd-6cf7-46d3-b3cd-b2cc01e4e65c')\"\n",
              "              title=\"Convert this dataframe to an interactive table.\"\n",
              "              style=\"display:none;\">\n",
              "        \n",
              "  <svg xmlns=\"http://www.w3.org/2000/svg\" height=\"24px\"viewBox=\"0 0 24 24\"\n",
              "       width=\"24px\">\n",
              "    <path d=\"M0 0h24v24H0V0z\" fill=\"none\"/>\n",
              "    <path d=\"M18.56 5.44l.94 2.06.94-2.06 2.06-.94-2.06-.94-.94-2.06-.94 2.06-2.06.94zm-11 1L8.5 8.5l.94-2.06 2.06-.94-2.06-.94L8.5 2.5l-.94 2.06-2.06.94zm10 10l.94 2.06.94-2.06 2.06-.94-2.06-.94-.94-2.06-.94 2.06-2.06.94z\"/><path d=\"M17.41 7.96l-1.37-1.37c-.4-.4-.92-.59-1.43-.59-.52 0-1.04.2-1.43.59L10.3 9.45l-7.72 7.72c-.78.78-.78 2.05 0 2.83L4 21.41c.39.39.9.59 1.41.59.51 0 1.02-.2 1.41-.59l7.78-7.78 2.81-2.81c.8-.78.8-2.07 0-2.86zM5.41 20L4 18.59l7.72-7.72 1.47 1.35L5.41 20z\"/>\n",
              "  </svg>\n",
              "      </button>\n",
              "      \n",
              "  <style>\n",
              "    .colab-df-container {\n",
              "      display:flex;\n",
              "      flex-wrap:wrap;\n",
              "      gap: 12px;\n",
              "    }\n",
              "\n",
              "    .colab-df-convert {\n",
              "      background-color: #E8F0FE;\n",
              "      border: none;\n",
              "      border-radius: 50%;\n",
              "      cursor: pointer;\n",
              "      display: none;\n",
              "      fill: #1967D2;\n",
              "      height: 32px;\n",
              "      padding: 0 0 0 0;\n",
              "      width: 32px;\n",
              "    }\n",
              "\n",
              "    .colab-df-convert:hover {\n",
              "      background-color: #E2EBFA;\n",
              "      box-shadow: 0px 1px 2px rgba(60, 64, 67, 0.3), 0px 1px 3px 1px rgba(60, 64, 67, 0.15);\n",
              "      fill: #174EA6;\n",
              "    }\n",
              "\n",
              "    [theme=dark] .colab-df-convert {\n",
              "      background-color: #3B4455;\n",
              "      fill: #D2E3FC;\n",
              "    }\n",
              "\n",
              "    [theme=dark] .colab-df-convert:hover {\n",
              "      background-color: #434B5C;\n",
              "      box-shadow: 0px 1px 3px 1px rgba(0, 0, 0, 0.15);\n",
              "      filter: drop-shadow(0px 1px 2px rgba(0, 0, 0, 0.3));\n",
              "      fill: #FFFFFF;\n",
              "    }\n",
              "  </style>\n",
              "\n",
              "      <script>\n",
              "        const buttonEl =\n",
              "          document.querySelector('#df-fc0a0ffd-6cf7-46d3-b3cd-b2cc01e4e65c button.colab-df-convert');\n",
              "        buttonEl.style.display =\n",
              "          google.colab.kernel.accessAllowed ? 'block' : 'none';\n",
              "\n",
              "        async function convertToInteractive(key) {\n",
              "          const element = document.querySelector('#df-fc0a0ffd-6cf7-46d3-b3cd-b2cc01e4e65c');\n",
              "          const dataTable =\n",
              "            await google.colab.kernel.invokeFunction('convertToInteractive',\n",
              "                                                     [key], {});\n",
              "          if (!dataTable) return;\n",
              "\n",
              "          const docLinkHtml = 'Like what you see? Visit the ' +\n",
              "            '<a target=\"_blank\" href=https://colab.research.google.com/notebooks/data_table.ipynb>data table notebook</a>'\n",
              "            + ' to learn more about interactive tables.';\n",
              "          element.innerHTML = '';\n",
              "          dataTable['output_type'] = 'display_data';\n",
              "          await google.colab.output.renderOutput(dataTable, element);\n",
              "          const docLink = document.createElement('div');\n",
              "          docLink.innerHTML = docLinkHtml;\n",
              "          element.appendChild(docLink);\n",
              "        }\n",
              "      </script>\n",
              "    </div>\n",
              "  </div>\n",
              "  "
            ]
          },
          "metadata": {},
          "execution_count": 16
        }
      ]
    },
    {
      "cell_type": "code",
      "source": [
        "# Removing that row from the original Data Frame\n",
        "\n",
        "df = df.drop([10472])"
      ],
      "metadata": {
        "id": "ROnGueHhh7p7"
      },
      "execution_count": 17,
      "outputs": []
    },
    {
      "cell_type": "code",
      "source": [
        "# Now converting all the string values in 'Last Updated' column into DateTime type\n",
        "\n",
        "df['Last Updated'] = pd.to_datetime(df['Last Updated'])"
      ],
      "metadata": {
        "id": "-AZBruSbBGtF"
      },
      "execution_count": 18,
      "outputs": []
    },
    {
      "cell_type": "code",
      "source": [
        "# Checking for conversion made or not\n",
        "\n",
        "df.info()"
      ],
      "metadata": {
        "colab": {
          "base_uri": "https://localhost:8080/"
        },
        "id": "vxlH94mtiRQU",
        "outputId": "d3f1fe81-6813-410d-c3a4-370bc42a0df8"
      },
      "execution_count": 19,
      "outputs": [
        {
          "output_type": "stream",
          "name": "stdout",
          "text": [
            "<class 'pandas.core.frame.DataFrame'>\n",
            "Int64Index: 10840 entries, 0 to 10840\n",
            "Data columns (total 13 columns):\n",
            " #   Column          Non-Null Count  Dtype         \n",
            "---  ------          --------------  -----         \n",
            " 0   App             10840 non-null  object        \n",
            " 1   Category        10840 non-null  object        \n",
            " 2   Rating          10840 non-null  float64       \n",
            " 3   Reviews         10840 non-null  object        \n",
            " 4   Size            10840 non-null  object        \n",
            " 5   Installs        10840 non-null  object        \n",
            " 6   Type            10839 non-null  object        \n",
            " 7   Price           10840 non-null  object        \n",
            " 8   Content Rating  10840 non-null  object        \n",
            " 9   Genres          10840 non-null  object        \n",
            " 10  Last Updated    10840 non-null  datetime64[ns]\n",
            " 11  Current Ver     10832 non-null  object        \n",
            " 12  Android Ver     10838 non-null  object        \n",
            "dtypes: datetime64[ns](1), float64(1), object(11)\n",
            "memory usage: 1.2+ MB\n"
          ]
        }
      ]
    },
    {
      "cell_type": "code",
      "source": [
        "# 'Last Updated' column successfully converted into DateTime data type"
      ],
      "metadata": {
        "id": "QM0mMjPFiVLM"
      },
      "execution_count": 20,
      "outputs": []
    },
    {
      "cell_type": "markdown",
      "source": [
        "#**Now lets convert 'Reviews' column from object to float**"
      ],
      "metadata": {
        "id": "nZHUnNtIlqmD"
      }
    },
    {
      "cell_type": "code",
      "source": [
        "df['Reviews'] = df['Reviews'].astype(float)"
      ],
      "metadata": {
        "id": "zfhYv8Z7koq6"
      },
      "execution_count": 21,
      "outputs": []
    },
    {
      "cell_type": "code",
      "source": [
        "# Checking whether conversion was successfull or not\n",
        "\n",
        "df.info()"
      ],
      "metadata": {
        "colab": {
          "base_uri": "https://localhost:8080/"
        },
        "id": "JqqCcOKWmIae",
        "outputId": "65274d93-b843-4a0f-b82c-f922d60ef733"
      },
      "execution_count": 22,
      "outputs": [
        {
          "output_type": "stream",
          "name": "stdout",
          "text": [
            "<class 'pandas.core.frame.DataFrame'>\n",
            "Int64Index: 10840 entries, 0 to 10840\n",
            "Data columns (total 13 columns):\n",
            " #   Column          Non-Null Count  Dtype         \n",
            "---  ------          --------------  -----         \n",
            " 0   App             10840 non-null  object        \n",
            " 1   Category        10840 non-null  object        \n",
            " 2   Rating          10840 non-null  float64       \n",
            " 3   Reviews         10840 non-null  float64       \n",
            " 4   Size            10840 non-null  object        \n",
            " 5   Installs        10840 non-null  object        \n",
            " 6   Type            10839 non-null  object        \n",
            " 7   Price           10840 non-null  object        \n",
            " 8   Content Rating  10840 non-null  object        \n",
            " 9   Genres          10840 non-null  object        \n",
            " 10  Last Updated    10840 non-null  datetime64[ns]\n",
            " 11  Current Ver     10832 non-null  object        \n",
            " 12  Android Ver     10838 non-null  object        \n",
            "dtypes: datetime64[ns](1), float64(2), object(10)\n",
            "memory usage: 1.2+ MB\n"
          ]
        }
      ]
    },
    {
      "cell_type": "markdown",
      "source": [
        "#**We also need to convert Data Type of 'Installs' column from object to float**"
      ],
      "metadata": {
        "id": "mKpBpgwrIXtz"
      }
    },
    {
      "cell_type": "code",
      "source": [
        "installs = [i for i in df['Installs']] # Getting all the values in Installs column in the form of List\n",
        "\n",
        "def new_installs (installs_list):\n",
        "  '''\n",
        "  This functions takes List as an argument and removes '+' & ',' from each element of input list\n",
        "  '''\n",
        "  cleaned_data = []\n",
        "  for i in installs_list:\n",
        "    if ',' in i:\n",
        "      i = i.replace(',', '')\n",
        "    if '+' in i:\n",
        "      i = i.replace('+', '')\n",
        "    cleaned_data.append(int(i))\n",
        "  return cleaned_data\n",
        "\n",
        "df['Installs'] = new_installs(installs) # Passing the input list\n",
        "df['Installs'] = df['Installs'].astype(float)\n"
      ],
      "metadata": {
        "id": "a-S_ocb4mfzB"
      },
      "execution_count": 23,
      "outputs": []
    },
    {
      "cell_type": "code",
      "source": [
        "# Checking the result\n",
        "\n",
        "df.Installs"
      ],
      "metadata": {
        "colab": {
          "base_uri": "https://localhost:8080/"
        },
        "id": "RBhliKE3JfKi",
        "outputId": "24b6f970-06be-453d-ee82-3b0f53674477"
      },
      "execution_count": 24,
      "outputs": [
        {
          "output_type": "execute_result",
          "data": {
            "text/plain": [
              "0           10000.0\n",
              "1          500000.0\n",
              "2         5000000.0\n",
              "3        50000000.0\n",
              "4          100000.0\n",
              "            ...    \n",
              "10836        5000.0\n",
              "10837         100.0\n",
              "10838        1000.0\n",
              "10839        1000.0\n",
              "10840    10000000.0\n",
              "Name: Installs, Length: 10840, dtype: float64"
            ]
          },
          "metadata": {},
          "execution_count": 24
        }
      ]
    },
    {
      "cell_type": "code",
      "source": [
        "df.info()"
      ],
      "metadata": {
        "colab": {
          "base_uri": "https://localhost:8080/"
        },
        "id": "ZWmgQqkKt0D8",
        "outputId": "5c95681f-fd67-494a-cd9a-dcb2d665122f"
      },
      "execution_count": 25,
      "outputs": [
        {
          "output_type": "stream",
          "name": "stdout",
          "text": [
            "<class 'pandas.core.frame.DataFrame'>\n",
            "Int64Index: 10840 entries, 0 to 10840\n",
            "Data columns (total 13 columns):\n",
            " #   Column          Non-Null Count  Dtype         \n",
            "---  ------          --------------  -----         \n",
            " 0   App             10840 non-null  object        \n",
            " 1   Category        10840 non-null  object        \n",
            " 2   Rating          10840 non-null  float64       \n",
            " 3   Reviews         10840 non-null  float64       \n",
            " 4   Size            10840 non-null  object        \n",
            " 5   Installs        10840 non-null  float64       \n",
            " 6   Type            10839 non-null  object        \n",
            " 7   Price           10840 non-null  object        \n",
            " 8   Content Rating  10840 non-null  object        \n",
            " 9   Genres          10840 non-null  object        \n",
            " 10  Last Updated    10840 non-null  datetime64[ns]\n",
            " 11  Current Ver     10832 non-null  object        \n",
            " 12  Android Ver     10838 non-null  object        \n",
            "dtypes: datetime64[ns](1), float64(3), object(9)\n",
            "memory usage: 1.2+ MB\n"
          ]
        }
      ]
    },
    {
      "cell_type": "markdown",
      "source": [
        "#**Now lets convert 'Size' column from object to float. We will be converting all the values in MB (MegaBytes)**"
      ],
      "metadata": {
        "id": "ROIB4i0zKvjz"
      }
    },
    {
      "cell_type": "code",
      "source": [
        "# Lets create one function\n",
        "\n",
        "size = [i for i in df['Size']] # Creating a list of all sizes from Data Frame\n",
        "\n",
        "def clean_size(size_list):\n",
        "  '''\n",
        "  This function will take list of app sizes as an argument and will convert it into MB format\n",
        "  '''\n",
        "  data = []\n",
        "  for i in size_list:\n",
        "    if 'M' in i:\n",
        "      i = i.replace('M', '')\n",
        "      i = float(i)\n",
        "    elif 'k' in i:\n",
        "      i = i.replace('k', '')\n",
        "      i = float(i)  # First converting into float so that we can do divide operation in next step  \n",
        "      i = i/1024  # 1 MB = 1024 kb\n",
        "    elif 'Varies with device' in i:\n",
        "      i = float(0) # replacing with 0\n",
        "    data.append(i)\n",
        "  return data\n",
        "\n",
        "df['Size'] = clean_size(size) # Passing the list of uncleaned sizes\n",
        "df['Size'] = df['Size'].astype(float)\n"
      ],
      "metadata": {
        "id": "6dfPa0AlpQFB"
      },
      "execution_count": 26,
      "outputs": []
    },
    {
      "cell_type": "code",
      "source": [
        "# Checking the result\n",
        "\n",
        "df.Size"
      ],
      "metadata": {
        "colab": {
          "base_uri": "https://localhost:8080/"
        },
        "id": "t8yasSKjOkeZ",
        "outputId": "d9366c7b-ac8b-4831-e911-98399af4c612"
      },
      "execution_count": 27,
      "outputs": [
        {
          "output_type": "execute_result",
          "data": {
            "text/plain": [
              "0        19.0\n",
              "1        14.0\n",
              "2         8.7\n",
              "3        25.0\n",
              "4         2.8\n",
              "         ... \n",
              "10836    53.0\n",
              "10837     3.6\n",
              "10838     9.5\n",
              "10839     0.0\n",
              "10840    19.0\n",
              "Name: Size, Length: 10840, dtype: float64"
            ]
          },
          "metadata": {},
          "execution_count": 27
        }
      ]
    },
    {
      "cell_type": "code",
      "source": [
        "df.info()"
      ],
      "metadata": {
        "colab": {
          "base_uri": "https://localhost:8080/"
        },
        "id": "RbwOtrJGPsN6",
        "outputId": "2b80414d-0874-4dd1-b2c5-693cee97c96b"
      },
      "execution_count": 28,
      "outputs": [
        {
          "output_type": "stream",
          "name": "stdout",
          "text": [
            "<class 'pandas.core.frame.DataFrame'>\n",
            "Int64Index: 10840 entries, 0 to 10840\n",
            "Data columns (total 13 columns):\n",
            " #   Column          Non-Null Count  Dtype         \n",
            "---  ------          --------------  -----         \n",
            " 0   App             10840 non-null  object        \n",
            " 1   Category        10840 non-null  object        \n",
            " 2   Rating          10840 non-null  float64       \n",
            " 3   Reviews         10840 non-null  float64       \n",
            " 4   Size            10840 non-null  float64       \n",
            " 5   Installs        10840 non-null  float64       \n",
            " 6   Type            10839 non-null  object        \n",
            " 7   Price           10840 non-null  object        \n",
            " 8   Content Rating  10840 non-null  object        \n",
            " 9   Genres          10840 non-null  object        \n",
            " 10  Last Updated    10840 non-null  datetime64[ns]\n",
            " 11  Current Ver     10832 non-null  object        \n",
            " 12  Android Ver     10838 non-null  object        \n",
            "dtypes: datetime64[ns](1), float64(4), object(8)\n",
            "memory usage: 1.2+ MB\n"
          ]
        }
      ]
    },
    {
      "cell_type": "code",
      "source": [
        "# So we successfully converted 'Size' column into float data type"
      ],
      "metadata": {
        "id": "zSJ4G7q0PxFY"
      },
      "execution_count": 29,
      "outputs": []
    },
    {
      "cell_type": "markdown",
      "source": [
        "#**Now we will convert Price column into float data type using similar function used above**"
      ],
      "metadata": {
        "id": "67U7aRLPQxai"
      }
    },
    {
      "cell_type": "code",
      "source": [
        "prices = [i for i in df['Price']]\n",
        "\n",
        "def cleaned_price (price_list):\n",
        "  '''\n",
        "  This function takes price list as an argument and removes '$' sign from it to convert it into float value\n",
        "  '''\n",
        "  data = []\n",
        "  for i in price_list:\n",
        "    if '$' in i:\n",
        "      i = i.replace('$', '')\n",
        "    data.append(i)\n",
        "  return data\n",
        "\n",
        "df['Price'] = cleaned_price(prices)\n",
        "df['Price'] = df['Price'].astype(float)\n"
      ],
      "metadata": {
        "id": "Wk2yXSNNP5bj"
      },
      "execution_count": 30,
      "outputs": []
    },
    {
      "cell_type": "code",
      "source": [
        "df.Price"
      ],
      "metadata": {
        "colab": {
          "base_uri": "https://localhost:8080/"
        },
        "id": "rxKYtFi0SDaZ",
        "outputId": "a9b6a868-21f6-404f-f6f8-baf0610e86e6"
      },
      "execution_count": 31,
      "outputs": [
        {
          "output_type": "execute_result",
          "data": {
            "text/plain": [
              "0        0.0\n",
              "1        0.0\n",
              "2        0.0\n",
              "3        0.0\n",
              "4        0.0\n",
              "        ... \n",
              "10836    0.0\n",
              "10837    0.0\n",
              "10838    0.0\n",
              "10839    0.0\n",
              "10840    0.0\n",
              "Name: Price, Length: 10840, dtype: float64"
            ]
          },
          "metadata": {},
          "execution_count": 31
        }
      ]
    },
    {
      "cell_type": "code",
      "source": [
        "df.info()"
      ],
      "metadata": {
        "colab": {
          "base_uri": "https://localhost:8080/"
        },
        "id": "AG8YVtFHSGUY",
        "outputId": "ececac5d-164b-49d7-edf9-a68fea4445db"
      },
      "execution_count": 32,
      "outputs": [
        {
          "output_type": "stream",
          "name": "stdout",
          "text": [
            "<class 'pandas.core.frame.DataFrame'>\n",
            "Int64Index: 10840 entries, 0 to 10840\n",
            "Data columns (total 13 columns):\n",
            " #   Column          Non-Null Count  Dtype         \n",
            "---  ------          --------------  -----         \n",
            " 0   App             10840 non-null  object        \n",
            " 1   Category        10840 non-null  object        \n",
            " 2   Rating          10840 non-null  float64       \n",
            " 3   Reviews         10840 non-null  float64       \n",
            " 4   Size            10840 non-null  float64       \n",
            " 5   Installs        10840 non-null  float64       \n",
            " 6   Type            10839 non-null  object        \n",
            " 7   Price           10840 non-null  float64       \n",
            " 8   Content Rating  10840 non-null  object        \n",
            " 9   Genres          10840 non-null  object        \n",
            " 10  Last Updated    10840 non-null  datetime64[ns]\n",
            " 11  Current Ver     10832 non-null  object        \n",
            " 12  Android Ver     10838 non-null  object        \n",
            "dtypes: datetime64[ns](1), float64(5), object(7)\n",
            "memory usage: 1.2+ MB\n"
          ]
        }
      ]
    },
    {
      "cell_type": "code",
      "source": [
        "# Lets remove the null value in 'Type' column by Mode value\n",
        "\n",
        "df['Type'].mode()"
      ],
      "metadata": {
        "colab": {
          "base_uri": "https://localhost:8080/"
        },
        "id": "j7FCBbftu3Pq",
        "outputId": "c0939aea-787b-40a1-a41b-76645f9af31d"
      },
      "execution_count": 33,
      "outputs": [
        {
          "output_type": "execute_result",
          "data": {
            "text/plain": [
              "0    Free\n",
              "dtype: object"
            ]
          },
          "metadata": {},
          "execution_count": 33
        }
      ]
    },
    {
      "cell_type": "code",
      "source": [
        "df['Type'] = df['Type'].fillna('Free')"
      ],
      "metadata": {
        "id": "wcPMn0Wsu8QD"
      },
      "execution_count": 34,
      "outputs": []
    },
    {
      "cell_type": "code",
      "source": [
        "# We have successfully converted 'Price' column into float data type\n",
        "\n",
        "# We have cleaned almost all the data "
      ],
      "metadata": {
        "id": "F3-DEFQoSKv5"
      },
      "execution_count": 35,
      "outputs": []
    },
    {
      "cell_type": "code",
      "source": [
        "# Lets do final check \n",
        "\n",
        "df.isna().sum()"
      ],
      "metadata": {
        "colab": {
          "base_uri": "https://localhost:8080/"
        },
        "id": "O5_udPuFSa0o",
        "outputId": "fb7f9d0f-5576-4029-ce1a-8d0f970b4216"
      },
      "execution_count": 36,
      "outputs": [
        {
          "output_type": "execute_result",
          "data": {
            "text/plain": [
              "App               0\n",
              "Category          0\n",
              "Rating            0\n",
              "Reviews           0\n",
              "Size              0\n",
              "Installs          0\n",
              "Type              0\n",
              "Price             0\n",
              "Content Rating    0\n",
              "Genres            0\n",
              "Last Updated      0\n",
              "Current Ver       8\n",
              "Android Ver       2\n",
              "dtype: int64"
            ]
          },
          "metadata": {},
          "execution_count": 36
        }
      ]
    },
    {
      "cell_type": "code",
      "source": [
        "# Checking for any duplicates in 'App' column\n",
        "\n",
        "bool_series = df.duplicated(subset='App')\n",
        "lis = [i for i in bool_series]"
      ],
      "metadata": {
        "id": "aETd8CXLUFmU"
      },
      "execution_count": 37,
      "outputs": []
    },
    {
      "cell_type": "code",
      "source": [
        "lis.count(True)"
      ],
      "metadata": {
        "colab": {
          "base_uri": "https://localhost:8080/"
        },
        "id": "SOaGBRiPrZ5t",
        "outputId": "9718fb72-d24b-40eb-c7bf-856ae03e925f"
      },
      "execution_count": 38,
      "outputs": [
        {
          "output_type": "execute_result",
          "data": {
            "text/plain": [
              "1181"
            ]
          },
          "metadata": {},
          "execution_count": 38
        }
      ]
    },
    {
      "cell_type": "code",
      "source": [
        "# So it seems there are 1181 duplicates present in 'App' column, we need to remove the duplicates\n",
        "\n",
        "df.drop_duplicates(subset = ['App'], inplace=True)"
      ],
      "metadata": {
        "id": "tQlsyLLny_Bz"
      },
      "execution_count": 39,
      "outputs": []
    },
    {
      "cell_type": "code",
      "source": [
        "bool_series = df.duplicated(subset='App')\n",
        "lis = [i for i in bool_series]\n",
        "lis.count(True)"
      ],
      "metadata": {
        "colab": {
          "base_uri": "https://localhost:8080/"
        },
        "id": "VuPpUzGzShlJ",
        "outputId": "794fe69a-16d9-4ccf-9c50-23677930ce58"
      },
      "execution_count": 40,
      "outputs": [
        {
          "output_type": "execute_result",
          "data": {
            "text/plain": [
              "0"
            ]
          },
          "metadata": {},
          "execution_count": 40
        }
      ]
    },
    {
      "cell_type": "code",
      "source": [
        "# Now there are no duplicates in 'App' column"
      ],
      "metadata": {
        "id": "K-DW3IgaziwL"
      },
      "execution_count": 41,
      "outputs": []
    },
    {
      "cell_type": "markdown",
      "source": [
        "#**Exploratory Data Analysis & Visualization**"
      ],
      "metadata": {
        "id": "r_vzDYkVSvp0"
      }
    },
    {
      "cell_type": "code",
      "source": [
        "df.sample(10)"
      ],
      "metadata": {
        "colab": {
          "base_uri": "https://localhost:8080/",
          "height": 511
        },
        "id": "v-ywHvl9yPOi",
        "outputId": "d6a54f3e-f553-4f2e-f3a2-d427a0aa7ba0"
      },
      "execution_count": 42,
      "outputs": [
        {
          "output_type": "execute_result",
          "data": {
            "text/plain": [
              "                                                App       Category  Rating  \\\n",
              "8506                       Dr. D.K. Olukoya Sermons      LIFESTYLE     4.3   \n",
              "8664                            Do I Snore or Grind        MEDICAL     4.4   \n",
              "1614                     Been Together (Ad) - D-day      LIFESTYLE     4.4   \n",
              "7428     San Andreas City : Auto Theft Car gangster           GAME     3.9   \n",
              "10143                                  EZ TV Player  VIDEO_PLAYERS     3.5   \n",
              "4152                                  Rolling G Sky           GAME     3.6   \n",
              "2845   Sweet Camera - Selfie Filters, Beauty Camera    PHOTOGRAPHY     4.7   \n",
              "2252                            Essential Anatomy 3        MEDICAL     4.1   \n",
              "5608                                           Seen         FAMILY     4.5   \n",
              "2097                 My Little Pony Rainbow Runners         FAMILY     4.3   \n",
              "\n",
              "        Reviews  Size    Installs  Type  Price Content Rating  \\\n",
              "8506        1.0   3.0       100.0  Free   0.00       Everyone   \n",
              "8664     2295.0  19.0    100000.0  Free   0.00       Everyone   \n",
              "1614    95736.0   0.0  10000000.0  Free   0.00       Everyone   \n",
              "7428      923.0  67.0    100000.0  Free   0.00           Teen   \n",
              "10143      51.0  11.0     10000.0  Free   0.00       Everyone   \n",
              "4152     2065.0  25.0    100000.0  Free   0.00       Everyone   \n",
              "2845   233039.0  24.0  10000000.0  Free   0.00       Everyone   \n",
              "2252     1533.0  42.0     50000.0  Paid  11.99     Mature 17+   \n",
              "5608   118285.0  22.0   1000000.0  Free   0.00           Teen   \n",
              "2097    33785.0  16.0   5000000.0  Free   0.00       Everyone   \n",
              "\n",
              "                          Genres Last Updated         Current Ver  \\\n",
              "8506                   Lifestyle   2017-09-26                 1.0   \n",
              "8664                     Medical   2018-07-09               0.3.1   \n",
              "1614                   Lifestyle   2018-07-30  Varies with device   \n",
              "7428                      Action   2018-07-17                 1.4   \n",
              "10143    Video Players & Editors   2018-06-26               8.0.9   \n",
              "4152                   Adventure   2017-01-25                 1.0   \n",
              "2845                 Photography   2018-07-28               1.5.3   \n",
              "2252                     Medical   2014-08-07               1.1.3   \n",
              "5608                  Simulation   2018-05-24               1.2.1   \n",
              "2097   Casual;Action & Adventure   2017-12-20                 1.3   \n",
              "\n",
              "              Android Ver  \n",
              "8506           4.0 and up  \n",
              "8664           5.0 and up  \n",
              "1614   Varies with device  \n",
              "7428           4.1 and up  \n",
              "10143          5.0 and up  \n",
              "4152         2.3.3 and up  \n",
              "2845           4.4 and up  \n",
              "2252         4.0.3 and up  \n",
              "5608           4.1 and up  \n",
              "2097           4.1 and up  "
            ],
            "text/html": [
              "\n",
              "  <div id=\"df-1a05d0f5-784f-454b-a883-e1d091f30e75\">\n",
              "    <div class=\"colab-df-container\">\n",
              "      <div>\n",
              "<style scoped>\n",
              "    .dataframe tbody tr th:only-of-type {\n",
              "        vertical-align: middle;\n",
              "    }\n",
              "\n",
              "    .dataframe tbody tr th {\n",
              "        vertical-align: top;\n",
              "    }\n",
              "\n",
              "    .dataframe thead th {\n",
              "        text-align: right;\n",
              "    }\n",
              "</style>\n",
              "<table border=\"1\" class=\"dataframe\">\n",
              "  <thead>\n",
              "    <tr style=\"text-align: right;\">\n",
              "      <th></th>\n",
              "      <th>App</th>\n",
              "      <th>Category</th>\n",
              "      <th>Rating</th>\n",
              "      <th>Reviews</th>\n",
              "      <th>Size</th>\n",
              "      <th>Installs</th>\n",
              "      <th>Type</th>\n",
              "      <th>Price</th>\n",
              "      <th>Content Rating</th>\n",
              "      <th>Genres</th>\n",
              "      <th>Last Updated</th>\n",
              "      <th>Current Ver</th>\n",
              "      <th>Android Ver</th>\n",
              "    </tr>\n",
              "  </thead>\n",
              "  <tbody>\n",
              "    <tr>\n",
              "      <th>8506</th>\n",
              "      <td>Dr. D.K. Olukoya Sermons</td>\n",
              "      <td>LIFESTYLE</td>\n",
              "      <td>4.3</td>\n",
              "      <td>1.0</td>\n",
              "      <td>3.0</td>\n",
              "      <td>100.0</td>\n",
              "      <td>Free</td>\n",
              "      <td>0.00</td>\n",
              "      <td>Everyone</td>\n",
              "      <td>Lifestyle</td>\n",
              "      <td>2017-09-26</td>\n",
              "      <td>1.0</td>\n",
              "      <td>4.0 and up</td>\n",
              "    </tr>\n",
              "    <tr>\n",
              "      <th>8664</th>\n",
              "      <td>Do I Snore or Grind</td>\n",
              "      <td>MEDICAL</td>\n",
              "      <td>4.4</td>\n",
              "      <td>2295.0</td>\n",
              "      <td>19.0</td>\n",
              "      <td>100000.0</td>\n",
              "      <td>Free</td>\n",
              "      <td>0.00</td>\n",
              "      <td>Everyone</td>\n",
              "      <td>Medical</td>\n",
              "      <td>2018-07-09</td>\n",
              "      <td>0.3.1</td>\n",
              "      <td>5.0 and up</td>\n",
              "    </tr>\n",
              "    <tr>\n",
              "      <th>1614</th>\n",
              "      <td>Been Together (Ad) - D-day</td>\n",
              "      <td>LIFESTYLE</td>\n",
              "      <td>4.4</td>\n",
              "      <td>95736.0</td>\n",
              "      <td>0.0</td>\n",
              "      <td>10000000.0</td>\n",
              "      <td>Free</td>\n",
              "      <td>0.00</td>\n",
              "      <td>Everyone</td>\n",
              "      <td>Lifestyle</td>\n",
              "      <td>2018-07-30</td>\n",
              "      <td>Varies with device</td>\n",
              "      <td>Varies with device</td>\n",
              "    </tr>\n",
              "    <tr>\n",
              "      <th>7428</th>\n",
              "      <td>San Andreas City : Auto Theft Car gangster</td>\n",
              "      <td>GAME</td>\n",
              "      <td>3.9</td>\n",
              "      <td>923.0</td>\n",
              "      <td>67.0</td>\n",
              "      <td>100000.0</td>\n",
              "      <td>Free</td>\n",
              "      <td>0.00</td>\n",
              "      <td>Teen</td>\n",
              "      <td>Action</td>\n",
              "      <td>2018-07-17</td>\n",
              "      <td>1.4</td>\n",
              "      <td>4.1 and up</td>\n",
              "    </tr>\n",
              "    <tr>\n",
              "      <th>10143</th>\n",
              "      <td>EZ TV Player</td>\n",
              "      <td>VIDEO_PLAYERS</td>\n",
              "      <td>3.5</td>\n",
              "      <td>51.0</td>\n",
              "      <td>11.0</td>\n",
              "      <td>10000.0</td>\n",
              "      <td>Free</td>\n",
              "      <td>0.00</td>\n",
              "      <td>Everyone</td>\n",
              "      <td>Video Players &amp; Editors</td>\n",
              "      <td>2018-06-26</td>\n",
              "      <td>8.0.9</td>\n",
              "      <td>5.0 and up</td>\n",
              "    </tr>\n",
              "    <tr>\n",
              "      <th>4152</th>\n",
              "      <td>Rolling G Sky</td>\n",
              "      <td>GAME</td>\n",
              "      <td>3.6</td>\n",
              "      <td>2065.0</td>\n",
              "      <td>25.0</td>\n",
              "      <td>100000.0</td>\n",
              "      <td>Free</td>\n",
              "      <td>0.00</td>\n",
              "      <td>Everyone</td>\n",
              "      <td>Adventure</td>\n",
              "      <td>2017-01-25</td>\n",
              "      <td>1.0</td>\n",
              "      <td>2.3.3 and up</td>\n",
              "    </tr>\n",
              "    <tr>\n",
              "      <th>2845</th>\n",
              "      <td>Sweet Camera - Selfie Filters, Beauty Camera</td>\n",
              "      <td>PHOTOGRAPHY</td>\n",
              "      <td>4.7</td>\n",
              "      <td>233039.0</td>\n",
              "      <td>24.0</td>\n",
              "      <td>10000000.0</td>\n",
              "      <td>Free</td>\n",
              "      <td>0.00</td>\n",
              "      <td>Everyone</td>\n",
              "      <td>Photography</td>\n",
              "      <td>2018-07-28</td>\n",
              "      <td>1.5.3</td>\n",
              "      <td>4.4 and up</td>\n",
              "    </tr>\n",
              "    <tr>\n",
              "      <th>2252</th>\n",
              "      <td>Essential Anatomy 3</td>\n",
              "      <td>MEDICAL</td>\n",
              "      <td>4.1</td>\n",
              "      <td>1533.0</td>\n",
              "      <td>42.0</td>\n",
              "      <td>50000.0</td>\n",
              "      <td>Paid</td>\n",
              "      <td>11.99</td>\n",
              "      <td>Mature 17+</td>\n",
              "      <td>Medical</td>\n",
              "      <td>2014-08-07</td>\n",
              "      <td>1.1.3</td>\n",
              "      <td>4.0.3 and up</td>\n",
              "    </tr>\n",
              "    <tr>\n",
              "      <th>5608</th>\n",
              "      <td>Seen</td>\n",
              "      <td>FAMILY</td>\n",
              "      <td>4.5</td>\n",
              "      <td>118285.0</td>\n",
              "      <td>22.0</td>\n",
              "      <td>1000000.0</td>\n",
              "      <td>Free</td>\n",
              "      <td>0.00</td>\n",
              "      <td>Teen</td>\n",
              "      <td>Simulation</td>\n",
              "      <td>2018-05-24</td>\n",
              "      <td>1.2.1</td>\n",
              "      <td>4.1 and up</td>\n",
              "    </tr>\n",
              "    <tr>\n",
              "      <th>2097</th>\n",
              "      <td>My Little Pony Rainbow Runners</td>\n",
              "      <td>FAMILY</td>\n",
              "      <td>4.3</td>\n",
              "      <td>33785.0</td>\n",
              "      <td>16.0</td>\n",
              "      <td>5000000.0</td>\n",
              "      <td>Free</td>\n",
              "      <td>0.00</td>\n",
              "      <td>Everyone</td>\n",
              "      <td>Casual;Action &amp; Adventure</td>\n",
              "      <td>2017-12-20</td>\n",
              "      <td>1.3</td>\n",
              "      <td>4.1 and up</td>\n",
              "    </tr>\n",
              "  </tbody>\n",
              "</table>\n",
              "</div>\n",
              "      <button class=\"colab-df-convert\" onclick=\"convertToInteractive('df-1a05d0f5-784f-454b-a883-e1d091f30e75')\"\n",
              "              title=\"Convert this dataframe to an interactive table.\"\n",
              "              style=\"display:none;\">\n",
              "        \n",
              "  <svg xmlns=\"http://www.w3.org/2000/svg\" height=\"24px\"viewBox=\"0 0 24 24\"\n",
              "       width=\"24px\">\n",
              "    <path d=\"M0 0h24v24H0V0z\" fill=\"none\"/>\n",
              "    <path d=\"M18.56 5.44l.94 2.06.94-2.06 2.06-.94-2.06-.94-.94-2.06-.94 2.06-2.06.94zm-11 1L8.5 8.5l.94-2.06 2.06-.94-2.06-.94L8.5 2.5l-.94 2.06-2.06.94zm10 10l.94 2.06.94-2.06 2.06-.94-2.06-.94-.94-2.06-.94 2.06-2.06.94z\"/><path d=\"M17.41 7.96l-1.37-1.37c-.4-.4-.92-.59-1.43-.59-.52 0-1.04.2-1.43.59L10.3 9.45l-7.72 7.72c-.78.78-.78 2.05 0 2.83L4 21.41c.39.39.9.59 1.41.59.51 0 1.02-.2 1.41-.59l7.78-7.78 2.81-2.81c.8-.78.8-2.07 0-2.86zM5.41 20L4 18.59l7.72-7.72 1.47 1.35L5.41 20z\"/>\n",
              "  </svg>\n",
              "      </button>\n",
              "      \n",
              "  <style>\n",
              "    .colab-df-container {\n",
              "      display:flex;\n",
              "      flex-wrap:wrap;\n",
              "      gap: 12px;\n",
              "    }\n",
              "\n",
              "    .colab-df-convert {\n",
              "      background-color: #E8F0FE;\n",
              "      border: none;\n",
              "      border-radius: 50%;\n",
              "      cursor: pointer;\n",
              "      display: none;\n",
              "      fill: #1967D2;\n",
              "      height: 32px;\n",
              "      padding: 0 0 0 0;\n",
              "      width: 32px;\n",
              "    }\n",
              "\n",
              "    .colab-df-convert:hover {\n",
              "      background-color: #E2EBFA;\n",
              "      box-shadow: 0px 1px 2px rgba(60, 64, 67, 0.3), 0px 1px 3px 1px rgba(60, 64, 67, 0.15);\n",
              "      fill: #174EA6;\n",
              "    }\n",
              "\n",
              "    [theme=dark] .colab-df-convert {\n",
              "      background-color: #3B4455;\n",
              "      fill: #D2E3FC;\n",
              "    }\n",
              "\n",
              "    [theme=dark] .colab-df-convert:hover {\n",
              "      background-color: #434B5C;\n",
              "      box-shadow: 0px 1px 3px 1px rgba(0, 0, 0, 0.15);\n",
              "      filter: drop-shadow(0px 1px 2px rgba(0, 0, 0, 0.3));\n",
              "      fill: #FFFFFF;\n",
              "    }\n",
              "  </style>\n",
              "\n",
              "      <script>\n",
              "        const buttonEl =\n",
              "          document.querySelector('#df-1a05d0f5-784f-454b-a883-e1d091f30e75 button.colab-df-convert');\n",
              "        buttonEl.style.display =\n",
              "          google.colab.kernel.accessAllowed ? 'block' : 'none';\n",
              "\n",
              "        async function convertToInteractive(key) {\n",
              "          const element = document.querySelector('#df-1a05d0f5-784f-454b-a883-e1d091f30e75');\n",
              "          const dataTable =\n",
              "            await google.colab.kernel.invokeFunction('convertToInteractive',\n",
              "                                                     [key], {});\n",
              "          if (!dataTable) return;\n",
              "\n",
              "          const docLinkHtml = 'Like what you see? Visit the ' +\n",
              "            '<a target=\"_blank\" href=https://colab.research.google.com/notebooks/data_table.ipynb>data table notebook</a>'\n",
              "            + ' to learn more about interactive tables.';\n",
              "          element.innerHTML = '';\n",
              "          dataTable['output_type'] = 'display_data';\n",
              "          await google.colab.output.renderOutput(dataTable, element);\n",
              "          const docLink = document.createElement('div');\n",
              "          docLink.innerHTML = docLinkHtml;\n",
              "          element.appendChild(docLink);\n",
              "        }\n",
              "      </script>\n",
              "    </div>\n",
              "  </div>\n",
              "  "
            ]
          },
          "metadata": {},
          "execution_count": 42
        }
      ]
    },
    {
      "cell_type": "markdown",
      "source": [
        "category vs avg. rating\n",
        "\n",
        "category vs installs\n",
        "\n",
        "free/paid vs no. of apps\n",
        "\n",
        "content rating vs no. of apps\n",
        "\n",
        "size vs installs vs free/paid\n",
        "\n",
        "reviews vs rating\n",
        "\n",
        "\n",
        "\n",
        "\n",
        "\n"
      ],
      "metadata": {
        "id": "MfZMUiYEdJ8p"
      }
    },
    {
      "cell_type": "markdown",
      "source": [
        "#**Lets see which Category have highest number of apps**"
      ],
      "metadata": {
        "id": "lmMZDuRy0Bhl"
      }
    },
    {
      "cell_type": "code",
      "source": [
        "# First we need to groupby each Category & take count of apps in each Category\n",
        "\n",
        "df1 = df.groupby(['Category'])['App'].count().reset_index(name = 'App_count')"
      ],
      "metadata": {
        "id": "0KTxV4Xr6qDZ"
      },
      "execution_count": 43,
      "outputs": []
    },
    {
      "cell_type": "code",
      "source": [
        "plt.figure(figsize=(15,7)) # Setting plot size\n",
        "sns.barplot(x=df1.Category, y=df1.App_count) # Passing the X-axis & Y-axis parameters\n",
        "plt.xticks(rotation= 90) # Rotating category names by 90 degress (making them vertical)\n",
        "plt.title('Number of Apps Per Category') # Giving title to the plot\n",
        "plt.xlabel('Category') # Labelling the X-axis\n",
        "plt.ylabel('Number of Apps') # Labelling the Y-axis"
      ],
      "metadata": {
        "colab": {
          "base_uri": "https://localhost:8080/",
          "height": 592
        },
        "id": "HkRnZWbT69t3",
        "outputId": "aef584f0-3318-47d1-b505-1f9db32eb5bf"
      },
      "execution_count": 44,
      "outputs": [
        {
          "output_type": "execute_result",
          "data": {
            "text/plain": [
              "Text(0, 0.5, 'Number of Apps')"
            ]
          },
          "metadata": {},
          "execution_count": 44
        },
        {
          "output_type": "display_data",
          "data": {
            "text/plain": [
              "<Figure size 1080x504 with 1 Axes>"
            ],
            "image/png": "[encoded data removed]"
          },
          "metadata": {
            "needs_background": "light"
          }
        }
      ]
    },
    {
      "cell_type": "markdown",
      "source": [
        "## **Category named 'FAMILY' have highest number of apps followed by categories 'GAME' & 'TOOLS'**"
      ],
      "metadata": {
        "id": "rlHezi678_GD"
      }
    },
    {
      "cell_type": "markdown",
      "source": [
        "#**Now lets see number of installs for each category**"
      ],
      "metadata": {
        "id": "8MYoCqvB7XRY"
      }
    },
    {
      "cell_type": "code",
      "source": [
        "# First we need to groupby each Category & take sum of all the number of installs\n",
        "\n",
        "df2 = df.groupby(['Category'])['Installs'].sum().reset_index(name = 'Total_Installs')"
      ],
      "metadata": {
        "id": "QhZCwyiW17cB"
      },
      "execution_count": 47,
      "outputs": []
    },
    {
      "cell_type": "code",
      "source": [
        "plt.figure(figsize=(15,7))\n",
        "sns.barplot(x=df2.Category, y=df2.Total_Installs)\n",
        "plt.xticks(rotation= 90)\n",
        "plt.title('Total App Installs Per Category')\n",
        "plt.xlabel('Category')\n",
        "plt.ylabel('Total Installs')"
      ],
      "metadata": {
        "colab": {
          "base_uri": "https://localhost:8080/",
          "height": 592
        },
        "id": "da2Sfk9f8t2m",
        "outputId": "bd832acf-a61d-438a-bfd7-e58d2fae0e40"
      },
      "execution_count": 48,
      "outputs": [
        {
          "output_type": "execute_result",
          "data": {
            "text/plain": [
              "Text(0, 0.5, 'Total Installs')"
            ]
          },
          "metadata": {},
          "execution_count": 48
        },
        {
          "output_type": "display_data",
          "data": {
            "text/plain": [
              "<Figure size 1080x504 with 1 Axes>"
            ],
            "image/png": "[encoded data removed]"
          },
          "metadata": {
            "needs_background": "light"
          }
        }
      ]
    },
    {
      "cell_type": "markdown",
      "source": [
        "## **'GAME' category have highest number of app installs & is most popular category (by no. of installs). 2nd highest is 'COMMUNICATION' & 3rd highest is 'TOOLS'**"
      ],
      "metadata": {
        "id": "DhlW8SZH9i2t"
      }
    },
    {
      "cell_type": "markdown",
      "source": [
        "##**Now lets explore the Categories based on App type (Free/paid)**"
      ],
      "metadata": {
        "id": "ww3_XgJBDrXe"
      }
    },
    {
      "cell_type": "code",
      "source": [
        "df3 = df.groupby(['Category','Type'])['App'].count().reset_index(name = 'App_count') # Groupby for plotting Category & Type in single plot\n",
        "df4 = df.groupby(['Type'])['App'].count().reset_index(name = 'Count') # Groupby for plotting no. of apps for each Type"
      ],
      "metadata": {
        "id": "cLDyIA7H9PLG"
      },
      "execution_count": 54,
      "outputs": []
    },
    {
      "cell_type": "code",
      "source": [
        "plt.figure(figsize=(15,5))\n",
        "sns.barplot(x=df3.Category, y=df3.App_count, hue=df3.Type) # setting hue to get different bars for each App type\n",
        "plt.xticks(rotation= 90)\n",
        "plt.title('Number of Apps Per Category')\n",
        "plt.xlabel('Category')\n",
        "plt.ylabel('Number of Apps')\n",
        "\n",
        "plt.figure(figsize=(4,3))\n",
        "sns.barplot(x=df4.Type, y=df4.Count)\n",
        "plt.xticks(rotation= 90)\n",
        "plt.title('Number of Apps Per Type')\n",
        "plt.xlabel('Type')\n",
        "plt.ylabel('Number of Apps')"
      ],
      "metadata": {
        "colab": {
          "base_uri": "https://localhost:8080/",
          "height": 719
        },
        "id": "37DM8FRI-0NY",
        "outputId": "0ba47744-5c04-4639-cbe8-e11874b81a04"
      },
      "execution_count": 58,
      "outputs": [
        {
          "output_type": "execute_result",
          "data": {
            "text/plain": [
              "Text(0, 0.5, 'Number of Apps')"
            ]
          },
          "metadata": {},
          "execution_count": 58
        },
        {
          "output_type": "display_data",
          "data": {
            "text/plain": [
              "<Figure size 1080x360 with 1 Axes>"
            ],
            "image/png": "[encoded data removed]"
          },
          "metadata": {
            "needs_background": "light"
          }
        },
        {
          "output_type": "display_data",
          "data": {
            "text/plain": [
              "<Figure size 288x216 with 1 Axes>"
            ],
            "image/png": "[encoded data removed]"
          },
          "metadata": {
            "needs_background": "light"
          }
        }
      ]
    },
    {
      "cell_type": "markdown",
      "source": [
        "## **It seems there are very less number of paid apps & some categories do not even have the paid apps**"
      ],
      "metadata": {
        "id": "RuC8KqrQC0LE"
      }
    },
    {
      "cell_type": "markdown",
      "source": [
        "#**Now lets see how Rating is distributed amongst all the apps**"
      ],
      "metadata": {
        "id": "2_ABvXycEdCR"
      }
    },
    {
      "cell_type": "code",
      "source": [
        "plt.figure(figsize=(15,7))\n",
        "sns.countplot(x=df.Rating) # countplot is used because we just want to count no. of apps for each Rating\n",
        "plt.xticks(rotation= 90)\n",
        "plt.title('Rating Distribution')\n",
        "plt.xlabel('Rating')\n",
        "plt.ylabel('Number of Apps')"
      ],
      "metadata": {
        "colab": {
          "base_uri": "https://localhost:8080/",
          "height": 482
        },
        "id": "QK6lJTzA-7vq",
        "outputId": "3dc49a0b-04c9-4a2e-f941-383dfde88460"
      },
      "execution_count": 77,
      "outputs": [
        {
          "output_type": "execute_result",
          "data": {
            "text/plain": [
              "Text(0, 0.5, 'Number of Apps')"
            ]
          },
          "metadata": {},
          "execution_count": 77
        },
        {
          "output_type": "display_data",
          "data": {
            "text/plain": [
              "<Figure size 1080x504 with 1 Axes>"
            ],
            "image/png": "[encoded data removed]"
          },
          "metadata": {
            "needs_background": "light"
          }
        }
      ]
    },
    {
      "cell_type": "markdown",
      "source": [
        "## **We can see that most of the apps have Rating above 4.0 with 4.3 being rated for highest no. of apps. There are less than 500 apps with perfect Rating of 5.0**"
      ],
      "metadata": {
        "id": "uZHHczeNY3E9"
      }
    },
    {
      "cell_type": "code",
      "source": [
        "content_df = df.groupby(['Content Rating'])['App'].count().reset_index(name = 'count')"
      ],
      "metadata": {
        "id": "rLkWYpIoa2VV"
      },
      "execution_count": 85,
      "outputs": []
    },
    {
      "cell_type": "code",
      "source": [
        "plt.figure(figsize=(15,7))\n",
        "sns.scatterplot(x=df.Price, y=df.Rating, hue = df.Type) # countplot is used because we just want to count no. of apps for each Rating\n",
        "plt.xticks(rotation= 90)\n",
        "plt.title('Effect of Price on Rating')\n",
        "plt.xlabel('Price')\n",
        "plt.ylabel('Rating')"
      ],
      "metadata": {
        "colab": {
          "base_uri": "https://localhost:8080/",
          "height": 485
        },
        "id": "g-xagwhiGOpT",
        "outputId": "b571ac33-2ba5-456e-bf7f-f7cb37bf3293"
      },
      "execution_count": 94,
      "outputs": [
        {
          "output_type": "execute_result",
          "data": {
            "text/plain": [
              "Text(0, 0.5, 'Rating')"
            ]
          },
          "metadata": {},
          "execution_count": 94
        },
        {
          "output_type": "display_data",
          "data": {
            "text/plain": [
              "<Figure size 1080x504 with 1 Axes>"
            ],
            "image/png": "[encoded data removed]"
          },
          "metadata": {
            "needs_background": "light"
          }
        }
      ]
    },
    {
      "cell_type": "markdown",
      "source": [
        "## **Apps having higher price have good rating, means they are definitely providing value for the money taken from user.**\n",
        "\n",
        "## **While on other hand free apps have mixed rating ranging from 1.0 to 5.0**"
      ],
      "metadata": {
        "id": "58IshQ1bdriw"
      }
    },
    {
      "cell_type": "code",
      "source": [
        ""
      ],
      "metadata": {
        "id": "TWwNi2AhaU82"
      },
      "execution_count": null,
      "outputs": []
    }
  ]
}